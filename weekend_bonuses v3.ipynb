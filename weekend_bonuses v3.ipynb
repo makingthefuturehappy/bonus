{
  "cells": [
    {
      "cell_type": "markdown",
      "metadata": {
        "id": "view-in-github",
        "colab_type": "text"
      },
      "source": [
        "<a href=\"https://colab.research.google.com/github/makingthefuturehappy/bonus/blob/main/weekend_bonuses%20v3.ipynb\" target=\"_parent\"><img src=\"https://colab.research.google.com/assets/colab-badge.svg\" alt=\"Open In Colab\"/></a>"
      ]
    },
    {
      "cell_type": "markdown",
      "id": "0a88923f",
      "metadata": {
        "id": "0a88923f"
      },
      "source": [
        "<H1>Bonus</H1>"
      ]
    },
    {
      "cell_type": "markdown",
      "id": "b4a3b9c2",
      "metadata": {
        "id": "b4a3b9c2"
      },
      "source": [
        "Drivers' segments description\n",
        "https://docs.google.com/spreadsheets/d/11KIaZaywoBq3MymrCd8dmWJdBhFO989SNsrrSKYiB3Y/edit#gid=0<br><br>\n",
        "2 steps:<br>\n",
        "1st step: cohorts and features calc<br>\n",
        "2nd step: business case calc<br>"
      ]
    },
    {
      "cell_type": "markdown",
      "id": "d517fcb4",
      "metadata": {
        "id": "d517fcb4"
      },
      "source": [
        "**Настраиваем переменные расчета**"
      ]
    },
    {
      "cell_type": "code",
      "execution_count": null,
      "id": "f8a84673",
      "metadata": {
        "id": "f8a84673"
      },
      "outputs": [],
      "source": [
        "path = \"SLP12.csv\"\n",
        "cohorts = 5           # quantity of cohorts\n",
        "commission = 0.0114    # indriver commission\n",
        "win_rate = 0.15       # percent of drivers who moves to the upper cohort\n",
        "period_duration = 0.5 # period to forecast prospective rides from the total period"
      ]
    },
    {
      "cell_type": "markdown",
      "id": "H6lDbWuqfOMG",
      "metadata": {
        "id": "H6lDbWuqfOMG"
      },
      "source": [
        "## Загружаем данные и анализируем кол-во поездок для каждого водителя"
      ]
    },
    {
      "cell_type": "code",
      "execution_count": null,
      "id": "b30d00ef",
      "metadata": {
        "id": "b30d00ef"
      },
      "outputs": [],
      "source": [
        "import pandas as pd\n",
        "import numpy as np\n",
        "import math\n",
        "from datetime import datetime\n",
        "import hashlib\n",
        "import warnings\n",
        "warnings.filterwarnings(\"ignore\")"
      ]
    },
    {
      "cell_type": "code",
      "execution_count": null,
      "id": "7cd3ea01",
      "metadata": {
        "id": "7cd3ea01"
      },
      "outputs": [],
      "source": [
        "# percentile level calc\n",
        "percentile_level = {}\n",
        "percentile = 0\n",
        "for i in range (1, cohorts):\n",
        "    percentile = 100 / cohorts + percentile\n",
        "    percentile_level[i] = int(percentile)"
      ]
    },
    {
      "cell_type": "markdown",
      "id": "c67685f9",
      "metadata": {
        "id": "c67685f9",
        "tags": []
      },
      "source": [
        "<h3>Data upload and pre-calc</h3>"
      ]
    },
    {
      "cell_type": "code",
      "execution_count": null,
      "id": "c70991fd",
      "metadata": {
        "colab": {
          "base_uri": "https://localhost:8080/",
          "height": 317
        },
        "id": "c70991fd",
        "outputId": "349a9ab4-e7a8-45ea-a317-8db0c6d03e00",
        "scrolled": true
      },
      "outputs": [
        {
          "output_type": "stream",
          "name": "stdout",
          "text": [
            "total drivers: 5926\n"
          ]
        },
        {
          "output_type": "execute_result",
          "data": {
            "text/plain": [
              "             id   gmv  02.01.23  03.01.23  04.01.23  05.01.23  06.01.23  \\\n",
              "4653  129791310   417         5         2         7         4         4   \n",
              "5317   16087374  1893        16        13        22        19        20   \n",
              "1988  157080742    36         0         0         0         0         0   \n",
              "4247  156919560   141         0         0         0         2         3   \n",
              "4576   36876325    33         0         0         0         0         0   \n",
              "\n",
              "      07.01.23  08.01.23  09.01.23  ...  20.01.23  21.01.23  22.01.23  \\\n",
              "4653         3         1         3  ...        10         0         4   \n",
              "5317        22        25        19  ...        19        25        20   \n",
              "1988         0         0         0  ...         0         0         0   \n",
              "4247         5         0         0  ...         0         5         3   \n",
              "4576         0         0         0  ...         0        10         0   \n",
              "\n",
              "      23.01.23  24.01.23  25.01.23  26.01.23  27.01.23  28.01.23  29.01.23  \n",
              "4653         3         7         5         5         9         0         4  \n",
              "5317        21        22        22        20        19        27        27  \n",
              "1988         0         5         2         0         0         0         0  \n",
              "4247         0         0         4         0         0         0        13  \n",
              "4576         0         0         0         0         0         0         0  \n",
              "\n",
              "[5 rows x 30 columns]"
            ],
            "text/html": [
              "\n",
              "  <div id=\"df-5a77ef8c-d4a3-4ced-8bfc-355fd2ba9a90\">\n",
              "    <div class=\"colab-df-container\">\n",
              "      <div>\n",
              "<style scoped>\n",
              "    .dataframe tbody tr th:only-of-type {\n",
              "        vertical-align: middle;\n",
              "    }\n",
              "\n",
              "    .dataframe tbody tr th {\n",
              "        vertical-align: top;\n",
              "    }\n",
              "\n",
              "    .dataframe thead th {\n",
              "        text-align: right;\n",
              "    }\n",
              "</style>\n",
              "<table border=\"1\" class=\"dataframe\">\n",
              "  <thead>\n",
              "    <tr style=\"text-align: right;\">\n",
              "      <th></th>\n",
              "      <th>id</th>\n",
              "      <th>gmv</th>\n",
              "      <th>02.01.23</th>\n",
              "      <th>03.01.23</th>\n",
              "      <th>04.01.23</th>\n",
              "      <th>05.01.23</th>\n",
              "      <th>06.01.23</th>\n",
              "      <th>07.01.23</th>\n",
              "      <th>08.01.23</th>\n",
              "      <th>09.01.23</th>\n",
              "      <th>...</th>\n",
              "      <th>20.01.23</th>\n",
              "      <th>21.01.23</th>\n",
              "      <th>22.01.23</th>\n",
              "      <th>23.01.23</th>\n",
              "      <th>24.01.23</th>\n",
              "      <th>25.01.23</th>\n",
              "      <th>26.01.23</th>\n",
              "      <th>27.01.23</th>\n",
              "      <th>28.01.23</th>\n",
              "      <th>29.01.23</th>\n",
              "    </tr>\n",
              "  </thead>\n",
              "  <tbody>\n",
              "    <tr>\n",
              "      <th>4653</th>\n",
              "      <td>129791310</td>\n",
              "      <td>417</td>\n",
              "      <td>5</td>\n",
              "      <td>2</td>\n",
              "      <td>7</td>\n",
              "      <td>4</td>\n",
              "      <td>4</td>\n",
              "      <td>3</td>\n",
              "      <td>1</td>\n",
              "      <td>3</td>\n",
              "      <td>...</td>\n",
              "      <td>10</td>\n",
              "      <td>0</td>\n",
              "      <td>4</td>\n",
              "      <td>3</td>\n",
              "      <td>7</td>\n",
              "      <td>5</td>\n",
              "      <td>5</td>\n",
              "      <td>9</td>\n",
              "      <td>0</td>\n",
              "      <td>4</td>\n",
              "    </tr>\n",
              "    <tr>\n",
              "      <th>5317</th>\n",
              "      <td>16087374</td>\n",
              "      <td>1893</td>\n",
              "      <td>16</td>\n",
              "      <td>13</td>\n",
              "      <td>22</td>\n",
              "      <td>19</td>\n",
              "      <td>20</td>\n",
              "      <td>22</td>\n",
              "      <td>25</td>\n",
              "      <td>19</td>\n",
              "      <td>...</td>\n",
              "      <td>19</td>\n",
              "      <td>25</td>\n",
              "      <td>20</td>\n",
              "      <td>21</td>\n",
              "      <td>22</td>\n",
              "      <td>22</td>\n",
              "      <td>20</td>\n",
              "      <td>19</td>\n",
              "      <td>27</td>\n",
              "      <td>27</td>\n",
              "    </tr>\n",
              "    <tr>\n",
              "      <th>1988</th>\n",
              "      <td>157080742</td>\n",
              "      <td>36</td>\n",
              "      <td>0</td>\n",
              "      <td>0</td>\n",
              "      <td>0</td>\n",
              "      <td>0</td>\n",
              "      <td>0</td>\n",
              "      <td>0</td>\n",
              "      <td>0</td>\n",
              "      <td>0</td>\n",
              "      <td>...</td>\n",
              "      <td>0</td>\n",
              "      <td>0</td>\n",
              "      <td>0</td>\n",
              "      <td>0</td>\n",
              "      <td>5</td>\n",
              "      <td>2</td>\n",
              "      <td>0</td>\n",
              "      <td>0</td>\n",
              "      <td>0</td>\n",
              "      <td>0</td>\n",
              "    </tr>\n",
              "    <tr>\n",
              "      <th>4247</th>\n",
              "      <td>156919560</td>\n",
              "      <td>141</td>\n",
              "      <td>0</td>\n",
              "      <td>0</td>\n",
              "      <td>0</td>\n",
              "      <td>2</td>\n",
              "      <td>3</td>\n",
              "      <td>5</td>\n",
              "      <td>0</td>\n",
              "      <td>0</td>\n",
              "      <td>...</td>\n",
              "      <td>0</td>\n",
              "      <td>5</td>\n",
              "      <td>3</td>\n",
              "      <td>0</td>\n",
              "      <td>0</td>\n",
              "      <td>4</td>\n",
              "      <td>0</td>\n",
              "      <td>0</td>\n",
              "      <td>0</td>\n",
              "      <td>13</td>\n",
              "    </tr>\n",
              "    <tr>\n",
              "      <th>4576</th>\n",
              "      <td>36876325</td>\n",
              "      <td>33</td>\n",
              "      <td>0</td>\n",
              "      <td>0</td>\n",
              "      <td>0</td>\n",
              "      <td>0</td>\n",
              "      <td>0</td>\n",
              "      <td>0</td>\n",
              "      <td>0</td>\n",
              "      <td>0</td>\n",
              "      <td>...</td>\n",
              "      <td>0</td>\n",
              "      <td>10</td>\n",
              "      <td>0</td>\n",
              "      <td>0</td>\n",
              "      <td>0</td>\n",
              "      <td>0</td>\n",
              "      <td>0</td>\n",
              "      <td>0</td>\n",
              "      <td>0</td>\n",
              "      <td>0</td>\n",
              "    </tr>\n",
              "  </tbody>\n",
              "</table>\n",
              "<p>5 rows × 30 columns</p>\n",
              "</div>\n",
              "      <button class=\"colab-df-convert\" onclick=\"convertToInteractive('df-5a77ef8c-d4a3-4ced-8bfc-355fd2ba9a90')\"\n",
              "              title=\"Convert this dataframe to an interactive table.\"\n",
              "              style=\"display:none;\">\n",
              "        \n",
              "  <svg xmlns=\"http://www.w3.org/2000/svg\" height=\"24px\"viewBox=\"0 0 24 24\"\n",
              "       width=\"24px\">\n",
              "    <path d=\"M0 0h24v24H0V0z\" fill=\"none\"/>\n",
              "    <path d=\"M18.56 5.44l.94 2.06.94-2.06 2.06-.94-2.06-.94-.94-2.06-.94 2.06-2.06.94zm-11 1L8.5 8.5l.94-2.06 2.06-.94-2.06-.94L8.5 2.5l-.94 2.06-2.06.94zm10 10l.94 2.06.94-2.06 2.06-.94-2.06-.94-.94-2.06-.94 2.06-2.06.94z\"/><path d=\"M17.41 7.96l-1.37-1.37c-.4-.4-.92-.59-1.43-.59-.52 0-1.04.2-1.43.59L10.3 9.45l-7.72 7.72c-.78.78-.78 2.05 0 2.83L4 21.41c.39.39.9.59 1.41.59.51 0 1.02-.2 1.41-.59l7.78-7.78 2.81-2.81c.8-.78.8-2.07 0-2.86zM5.41 20L4 18.59l7.72-7.72 1.47 1.35L5.41 20z\"/>\n",
              "  </svg>\n",
              "      </button>\n",
              "      \n",
              "  <style>\n",
              "    .colab-df-container {\n",
              "      display:flex;\n",
              "      flex-wrap:wrap;\n",
              "      gap: 12px;\n",
              "    }\n",
              "\n",
              "    .colab-df-convert {\n",
              "      background-color: #E8F0FE;\n",
              "      border: none;\n",
              "      border-radius: 50%;\n",
              "      cursor: pointer;\n",
              "      display: none;\n",
              "      fill: #1967D2;\n",
              "      height: 32px;\n",
              "      padding: 0 0 0 0;\n",
              "      width: 32px;\n",
              "    }\n",
              "\n",
              "    .colab-df-convert:hover {\n",
              "      background-color: #E2EBFA;\n",
              "      box-shadow: 0px 1px 2px rgba(60, 64, 67, 0.3), 0px 1px 3px 1px rgba(60, 64, 67, 0.15);\n",
              "      fill: #174EA6;\n",
              "    }\n",
              "\n",
              "    [theme=dark] .colab-df-convert {\n",
              "      background-color: #3B4455;\n",
              "      fill: #D2E3FC;\n",
              "    }\n",
              "\n",
              "    [theme=dark] .colab-df-convert:hover {\n",
              "      background-color: #434B5C;\n",
              "      box-shadow: 0px 1px 3px 1px rgba(0, 0, 0, 0.15);\n",
              "      filter: drop-shadow(0px 1px 2px rgba(0, 0, 0, 0.3));\n",
              "      fill: #FFFFFF;\n",
              "    }\n",
              "  </style>\n",
              "\n",
              "      <script>\n",
              "        const buttonEl =\n",
              "          document.querySelector('#df-5a77ef8c-d4a3-4ced-8bfc-355fd2ba9a90 button.colab-df-convert');\n",
              "        buttonEl.style.display =\n",
              "          google.colab.kernel.accessAllowed ? 'block' : 'none';\n",
              "\n",
              "        async function convertToInteractive(key) {\n",
              "          const element = document.querySelector('#df-5a77ef8c-d4a3-4ced-8bfc-355fd2ba9a90');\n",
              "          const dataTable =\n",
              "            await google.colab.kernel.invokeFunction('convertToInteractive',\n",
              "                                                     [key], {});\n",
              "          if (!dataTable) return;\n",
              "\n",
              "          const docLinkHtml = 'Like what you see? Visit the ' +\n",
              "            '<a target=\"_blank\" href=https://colab.research.google.com/notebooks/data_table.ipynb>data table notebook</a>'\n",
              "            + ' to learn more about interactive tables.';\n",
              "          element.innerHTML = '';\n",
              "          dataTable['output_type'] = 'display_data';\n",
              "          await google.colab.output.renderOutput(dataTable, element);\n",
              "          const docLink = document.createElement('div');\n",
              "          docLink.innerHTML = docLinkHtml;\n",
              "          element.appendChild(docLink);\n",
              "        }\n",
              "      </script>\n",
              "    </div>\n",
              "  </div>\n",
              "  "
            ]
          },
          "metadata": {},
          "execution_count": 154
        }
      ],
      "source": [
        "df = pd.read_csv(path)\n",
        "df['gmv'] = pd.to_numeric(df['gmv'], errors='coerce')\n",
        "dates = list(df.columns)[2:]\n",
        "print(\"total drivers:\", df.shape[0])\n",
        "df.sample(n=5)"
      ]
    },
    {
      "cell_type": "markdown",
      "id": "4e312746",
      "metadata": {
        "id": "4e312746"
      },
      "source": [
        "<h3>retention & avr. check calc</h3>"
      ]
    },
    {
      "cell_type": "code",
      "execution_count": null,
      "id": "17f32b23",
      "metadata": {
        "id": "17f32b23"
      },
      "outputs": [],
      "source": [
        "# date split by weekends and workdays \n",
        "fridays = []\n",
        "saturdays = []\n",
        "sundays = []\n",
        "workdays = []\n",
        "\n",
        "dates = list(filter(lambda x: \".\" in x, df.columns))\n",
        "for weekday in dates:\n",
        "    daynum = datetime.strptime(weekday, '%d.%m.%y').isoweekday()\n",
        "    if daynum == 5: fridays.append(weekday)\n",
        "    elif daynum == 6: saturdays.append(weekday)\n",
        "    elif daynum == 7: sundays.append(weekday)\n",
        "    else: workdays.append(weekday)"
      ]
    },
    {
      "cell_type": "code",
      "execution_count": null,
      "id": "5c1614a3",
      "metadata": {
        "id": "5c1614a3"
      },
      "outputs": [],
      "source": [
        "# split the period by 2 equal \"dates\" parts \n",
        "if len(dates)%2 == 0:\n",
        "    index_2nd = len(dates)//2\n",
        "    index_1st = 0\n",
        "else:\n",
        "    index_2nd = len(dates)//2+1\n",
        "    index_1st = 1\n",
        "    \n",
        "first_half = dates[index_1st : index_2nd]\n",
        "second_half = dates[index_2nd : len(dates)]\n",
        "total_days = len(first_half) + len(second_half)\n",
        "\n",
        "\n",
        "# retention & avr_check cals\n",
        "df['first_half'] = df[first_half].sum(axis=1)\n",
        "df['second_half'] = df[second_half].sum(axis=1)\n",
        "\n",
        "def retention_calc(first_half, second_half):\n",
        "    try:\n",
        "        retention = second_half / first_half\n",
        "    except:\n",
        "        retention = 0\n",
        "    retention = min (1, retention)\n",
        "    return retention\n",
        "\n",
        "df['retention'] = df.apply(lambda x: retention_calc(x['first_half'], x['second_half']), axis =  1)\n",
        "df['total_rides'] = df['first_half'] + df['second_half']\n",
        "df['avr_check'] = df['gmv'] / df['total_rides']\n",
        "df['WK_rides'] = df[fridays + saturdays + sundays].sum(axis=1) # weekends rides\n",
        "df['WD_rides'] = df[workdays].sum(axis=1) # weekends rides\n",
        "\n",
        "\n",
        "key_fields = ['id', 'gmv','first_half','second_half','total_rides', 'WD_rides','WK_rides', 'avr_check', 'retention'] \n",
        " \n",
        "df = df[np.isfinite(df).all(1)] # infinity values drop (comes from a division by zero)\n",
        "df = df.round({'gmv': 0, 'retention': 2, 'avr_check': 1})"
      ]
    },
    {
      "cell_type": "markdown",
      "id": "PftERkRHjE2b",
      "metadata": {
        "id": "PftERkRHjE2b"
      },
      "source": [
        "## Результат расчета кол-ва поездок\n"
      ]
    },
    {
      "cell_type": "markdown",
      "id": "Y5K_U5VYjXvi",
      "metadata": {
        "id": "Y5K_U5VYjXvi"
      },
      "source": [
        "**id** - id водителя<br>\n",
        "**gmv** - gmv водителя<br>\n",
        "**first_half** - количество поездок в первую половину периода<br>\n",
        "**second_half** - количество поездок в первую половину периода<br>\n",
        "**total_rides** - всего поездок за период\n",
        "**WD_rides** - количество поездок в WorkDays<br>\n",
        "**WK_rides** - количество поездок в WeeKends<br>\n",
        "**avr_check** - средний чек<br>\n",
        "\n"
      ]
    },
    {
      "cell_type": "code",
      "execution_count": null,
      "id": "Vy7PmTkXlC7Z",
      "metadata": {
        "colab": {
          "base_uri": "https://localhost:8080/",
          "height": 260
        },
        "id": "Vy7PmTkXlC7Z",
        "outputId": "d89f8179-444e-45fb-aac4-13181ff6704b"
      },
      "outputs": [
        {
          "output_type": "stream",
          "name": "stdout",
          "text": [
            "total drivers: 5926\n",
            "\n",
            "example of random drivers'id from the dataset\n"
          ]
        },
        {
          "output_type": "execute_result",
          "data": {
            "text/plain": [
              "             id  gmv  first_half  second_half  total_rides  WD_rides  \\\n",
              "3319   16999766  827         147          105          252       159   \n",
              "3607  158182955   39           0           12           12         6   \n",
              "4295  119613940   36          11            0           11         0   \n",
              "4721   17920666  384          69           48          117        29   \n",
              "8     158042485  469           8          135          143        78   \n",
              "\n",
              "      WK_rides  avr_check  retention  \n",
              "3319        93        3.3       0.71  \n",
              "3607         6        3.2       1.00  \n",
              "4295        11        3.3       0.00  \n",
              "4721        88        3.3       0.70  \n",
              "8           65        3.3       1.00  "
            ],
            "text/html": [
              "\n",
              "  <div id=\"df-75a9a1ce-550c-40aa-9f96-335fe50a3428\">\n",
              "    <div class=\"colab-df-container\">\n",
              "      <div>\n",
              "<style scoped>\n",
              "    .dataframe tbody tr th:only-of-type {\n",
              "        vertical-align: middle;\n",
              "    }\n",
              "\n",
              "    .dataframe tbody tr th {\n",
              "        vertical-align: top;\n",
              "    }\n",
              "\n",
              "    .dataframe thead th {\n",
              "        text-align: right;\n",
              "    }\n",
              "</style>\n",
              "<table border=\"1\" class=\"dataframe\">\n",
              "  <thead>\n",
              "    <tr style=\"text-align: right;\">\n",
              "      <th></th>\n",
              "      <th>id</th>\n",
              "      <th>gmv</th>\n",
              "      <th>first_half</th>\n",
              "      <th>second_half</th>\n",
              "      <th>total_rides</th>\n",
              "      <th>WD_rides</th>\n",
              "      <th>WK_rides</th>\n",
              "      <th>avr_check</th>\n",
              "      <th>retention</th>\n",
              "    </tr>\n",
              "  </thead>\n",
              "  <tbody>\n",
              "    <tr>\n",
              "      <th>3319</th>\n",
              "      <td>16999766</td>\n",
              "      <td>827</td>\n",
              "      <td>147</td>\n",
              "      <td>105</td>\n",
              "      <td>252</td>\n",
              "      <td>159</td>\n",
              "      <td>93</td>\n",
              "      <td>3.3</td>\n",
              "      <td>0.71</td>\n",
              "    </tr>\n",
              "    <tr>\n",
              "      <th>3607</th>\n",
              "      <td>158182955</td>\n",
              "      <td>39</td>\n",
              "      <td>0</td>\n",
              "      <td>12</td>\n",
              "      <td>12</td>\n",
              "      <td>6</td>\n",
              "      <td>6</td>\n",
              "      <td>3.2</td>\n",
              "      <td>1.00</td>\n",
              "    </tr>\n",
              "    <tr>\n",
              "      <th>4295</th>\n",
              "      <td>119613940</td>\n",
              "      <td>36</td>\n",
              "      <td>11</td>\n",
              "      <td>0</td>\n",
              "      <td>11</td>\n",
              "      <td>0</td>\n",
              "      <td>11</td>\n",
              "      <td>3.3</td>\n",
              "      <td>0.00</td>\n",
              "    </tr>\n",
              "    <tr>\n",
              "      <th>4721</th>\n",
              "      <td>17920666</td>\n",
              "      <td>384</td>\n",
              "      <td>69</td>\n",
              "      <td>48</td>\n",
              "      <td>117</td>\n",
              "      <td>29</td>\n",
              "      <td>88</td>\n",
              "      <td>3.3</td>\n",
              "      <td>0.70</td>\n",
              "    </tr>\n",
              "    <tr>\n",
              "      <th>8</th>\n",
              "      <td>158042485</td>\n",
              "      <td>469</td>\n",
              "      <td>8</td>\n",
              "      <td>135</td>\n",
              "      <td>143</td>\n",
              "      <td>78</td>\n",
              "      <td>65</td>\n",
              "      <td>3.3</td>\n",
              "      <td>1.00</td>\n",
              "    </tr>\n",
              "  </tbody>\n",
              "</table>\n",
              "</div>\n",
              "      <button class=\"colab-df-convert\" onclick=\"convertToInteractive('df-75a9a1ce-550c-40aa-9f96-335fe50a3428')\"\n",
              "              title=\"Convert this dataframe to an interactive table.\"\n",
              "              style=\"display:none;\">\n",
              "        \n",
              "  <svg xmlns=\"http://www.w3.org/2000/svg\" height=\"24px\"viewBox=\"0 0 24 24\"\n",
              "       width=\"24px\">\n",
              "    <path d=\"M0 0h24v24H0V0z\" fill=\"none\"/>\n",
              "    <path d=\"M18.56 5.44l.94 2.06.94-2.06 2.06-.94-2.06-.94-.94-2.06-.94 2.06-2.06.94zm-11 1L8.5 8.5l.94-2.06 2.06-.94-2.06-.94L8.5 2.5l-.94 2.06-2.06.94zm10 10l.94 2.06.94-2.06 2.06-.94-2.06-.94-.94-2.06-.94 2.06-2.06.94z\"/><path d=\"M17.41 7.96l-1.37-1.37c-.4-.4-.92-.59-1.43-.59-.52 0-1.04.2-1.43.59L10.3 9.45l-7.72 7.72c-.78.78-.78 2.05 0 2.83L4 21.41c.39.39.9.59 1.41.59.51 0 1.02-.2 1.41-.59l7.78-7.78 2.81-2.81c.8-.78.8-2.07 0-2.86zM5.41 20L4 18.59l7.72-7.72 1.47 1.35L5.41 20z\"/>\n",
              "  </svg>\n",
              "      </button>\n",
              "      \n",
              "  <style>\n",
              "    .colab-df-container {\n",
              "      display:flex;\n",
              "      flex-wrap:wrap;\n",
              "      gap: 12px;\n",
              "    }\n",
              "\n",
              "    .colab-df-convert {\n",
              "      background-color: #E8F0FE;\n",
              "      border: none;\n",
              "      border-radius: 50%;\n",
              "      cursor: pointer;\n",
              "      display: none;\n",
              "      fill: #1967D2;\n",
              "      height: 32px;\n",
              "      padding: 0 0 0 0;\n",
              "      width: 32px;\n",
              "    }\n",
              "\n",
              "    .colab-df-convert:hover {\n",
              "      background-color: #E2EBFA;\n",
              "      box-shadow: 0px 1px 2px rgba(60, 64, 67, 0.3), 0px 1px 3px 1px rgba(60, 64, 67, 0.15);\n",
              "      fill: #174EA6;\n",
              "    }\n",
              "\n",
              "    [theme=dark] .colab-df-convert {\n",
              "      background-color: #3B4455;\n",
              "      fill: #D2E3FC;\n",
              "    }\n",
              "\n",
              "    [theme=dark] .colab-df-convert:hover {\n",
              "      background-color: #434B5C;\n",
              "      box-shadow: 0px 1px 3px 1px rgba(0, 0, 0, 0.15);\n",
              "      filter: drop-shadow(0px 1px 2px rgba(0, 0, 0, 0.3));\n",
              "      fill: #FFFFFF;\n",
              "    }\n",
              "  </style>\n",
              "\n",
              "      <script>\n",
              "        const buttonEl =\n",
              "          document.querySelector('#df-75a9a1ce-550c-40aa-9f96-335fe50a3428 button.colab-df-convert');\n",
              "        buttonEl.style.display =\n",
              "          google.colab.kernel.accessAllowed ? 'block' : 'none';\n",
              "\n",
              "        async function convertToInteractive(key) {\n",
              "          const element = document.querySelector('#df-75a9a1ce-550c-40aa-9f96-335fe50a3428');\n",
              "          const dataTable =\n",
              "            await google.colab.kernel.invokeFunction('convertToInteractive',\n",
              "                                                     [key], {});\n",
              "          if (!dataTable) return;\n",
              "\n",
              "          const docLinkHtml = 'Like what you see? Visit the ' +\n",
              "            '<a target=\"_blank\" href=https://colab.research.google.com/notebooks/data_table.ipynb>data table notebook</a>'\n",
              "            + ' to learn more about interactive tables.';\n",
              "          element.innerHTML = '';\n",
              "          dataTable['output_type'] = 'display_data';\n",
              "          await google.colab.output.renderOutput(dataTable, element);\n",
              "          const docLink = document.createElement('div');\n",
              "          docLink.innerHTML = docLinkHtml;\n",
              "          element.appendChild(docLink);\n",
              "        }\n",
              "      </script>\n",
              "    </div>\n",
              "  </div>\n",
              "  "
            ]
          },
          "metadata": {},
          "execution_count": 157
        }
      ],
      "source": [
        "print('total drivers:', df.shape[0])\n",
        "print(\"\\nexample of random drivers'id from the dataset\")\n",
        "df[key_fields].sample(n=5)"
      ]
    },
    {
      "cell_type": "markdown",
      "id": "2571fe1b",
      "metadata": {
        "id": "2571fe1b"
      },
      "source": [
        "## Расчитываем размеры когорт"
      ]
    },
    {
      "cell_type": "code",
      "execution_count": null,
      "id": "18902214",
      "metadata": {
        "id": "18902214"
      },
      "outputs": [],
      "source": [
        "# exclude IDs which have zero rides during the first half of the period\n",
        "df_activer_drivers = df.loc[df['first_half'] != 0]\n",
        "    \n",
        "all_cohorts = {}\n",
        "range_start = 0\n",
        "\n",
        "for percentile in percentile_level.keys():\n",
        "    \n",
        "    max_value = np.percentile(np.array(df_activer_drivers.total_rides.tolist()), percentile_level[percentile]) # percentile value\n",
        "    all_cohorts[percentile] = range(int(range_start), int(max_value))\n",
        "    range_start = max_value\n",
        "\n",
        "last_percentile = int(max(list(percentile_level.keys())))+1\n",
        "all_cohorts[last_percentile] = range(int(max_value),\n",
        "                                     int(1e8)) # set a large number to keep the cohort range            \n",
        "\n",
        "# cohort distribution for all IDs\n",
        "def cohort_check(x, all_cohorts):\n",
        "    for cohort in all_cohorts.keys():\n",
        "        if x in all_cohorts[cohort]:\n",
        "            return cohort\n",
        "        else:\n",
        "            pass      \n",
        "df['cohort'] = df.apply(lambda x: cohort_check(x['total_rides'], all_cohorts), axis =  1)"
      ]
    },
    {
      "cell_type": "code",
      "execution_count": null,
      "id": "87646296",
      "metadata": {
        "colab": {
          "base_uri": "https://localhost:8080/",
          "height": 300
        },
        "id": "87646296",
        "outputId": "5adcce7f-96af-411b-968a-3f90317580bb",
        "scrolled": false
      },
      "outputs": [
        {
          "output_type": "execute_result",
          "data": {
            "text/plain": [
              "            id  gmv  02.01.23  03.01.23  04.01.23  05.01.23  06.01.23  \\\n",
              "2910  52428076  246         2         1         4         4         3   \n",
              "1970  19215836   79         0         0         0         0         0   \n",
              "3114  34293599  253         0         0         0         8        10   \n",
              "4501  49140712  485         0         0         2         0         2   \n",
              "5193  66384659  941         9         9         9         7        12   \n",
              "\n",
              "      07.01.23  08.01.23  09.01.23  ...  28.01.23  29.01.23  first_half  \\\n",
              "2910         7         6         1  ...         7         6          41   \n",
              "1970         0         0         0  ...         3         2           2   \n",
              "3114         9         6         4  ...         5         0          48   \n",
              "4501         2         8         2  ...        13         4          44   \n",
              "5193        16         9         7  ...        14        11         118   \n",
              "\n",
              "      second_half  retention  total_rides  avr_check  WK_rides  WD_rides  \\\n",
              "2910           34       0.83           75        3.3        51        24   \n",
              "1970           22       1.00           24        3.3        20         4   \n",
              "3114           29       0.60           77        3.3        48        29   \n",
              "4501          104       1.00          148        3.3        82        66   \n",
              "5193          169       1.00          287        3.3       126       161   \n",
              "\n",
              "      cohort  \n",
              "2910       3  \n",
              "1970       2  \n",
              "3114       3  \n",
              "4501       4  \n",
              "5193       5  \n",
              "\n",
              "[5 rows x 38 columns]"
            ],
            "text/html": [
              "\n",
              "  <div id=\"df-6d003dd7-dc70-44f3-a2a6-c23f8560b378\">\n",
              "    <div class=\"colab-df-container\">\n",
              "      <div>\n",
              "<style scoped>\n",
              "    .dataframe tbody tr th:only-of-type {\n",
              "        vertical-align: middle;\n",
              "    }\n",
              "\n",
              "    .dataframe tbody tr th {\n",
              "        vertical-align: top;\n",
              "    }\n",
              "\n",
              "    .dataframe thead th {\n",
              "        text-align: right;\n",
              "    }\n",
              "</style>\n",
              "<table border=\"1\" class=\"dataframe\">\n",
              "  <thead>\n",
              "    <tr style=\"text-align: right;\">\n",
              "      <th></th>\n",
              "      <th>id</th>\n",
              "      <th>gmv</th>\n",
              "      <th>02.01.23</th>\n",
              "      <th>03.01.23</th>\n",
              "      <th>04.01.23</th>\n",
              "      <th>05.01.23</th>\n",
              "      <th>06.01.23</th>\n",
              "      <th>07.01.23</th>\n",
              "      <th>08.01.23</th>\n",
              "      <th>09.01.23</th>\n",
              "      <th>...</th>\n",
              "      <th>28.01.23</th>\n",
              "      <th>29.01.23</th>\n",
              "      <th>first_half</th>\n",
              "      <th>second_half</th>\n",
              "      <th>retention</th>\n",
              "      <th>total_rides</th>\n",
              "      <th>avr_check</th>\n",
              "      <th>WK_rides</th>\n",
              "      <th>WD_rides</th>\n",
              "      <th>cohort</th>\n",
              "    </tr>\n",
              "  </thead>\n",
              "  <tbody>\n",
              "    <tr>\n",
              "      <th>2910</th>\n",
              "      <td>52428076</td>\n",
              "      <td>246</td>\n",
              "      <td>2</td>\n",
              "      <td>1</td>\n",
              "      <td>4</td>\n",
              "      <td>4</td>\n",
              "      <td>3</td>\n",
              "      <td>7</td>\n",
              "      <td>6</td>\n",
              "      <td>1</td>\n",
              "      <td>...</td>\n",
              "      <td>7</td>\n",
              "      <td>6</td>\n",
              "      <td>41</td>\n",
              "      <td>34</td>\n",
              "      <td>0.83</td>\n",
              "      <td>75</td>\n",
              "      <td>3.3</td>\n",
              "      <td>51</td>\n",
              "      <td>24</td>\n",
              "      <td>3</td>\n",
              "    </tr>\n",
              "    <tr>\n",
              "      <th>1970</th>\n",
              "      <td>19215836</td>\n",
              "      <td>79</td>\n",
              "      <td>0</td>\n",
              "      <td>0</td>\n",
              "      <td>0</td>\n",
              "      <td>0</td>\n",
              "      <td>0</td>\n",
              "      <td>0</td>\n",
              "      <td>0</td>\n",
              "      <td>0</td>\n",
              "      <td>...</td>\n",
              "      <td>3</td>\n",
              "      <td>2</td>\n",
              "      <td>2</td>\n",
              "      <td>22</td>\n",
              "      <td>1.00</td>\n",
              "      <td>24</td>\n",
              "      <td>3.3</td>\n",
              "      <td>20</td>\n",
              "      <td>4</td>\n",
              "      <td>2</td>\n",
              "    </tr>\n",
              "    <tr>\n",
              "      <th>3114</th>\n",
              "      <td>34293599</td>\n",
              "      <td>253</td>\n",
              "      <td>0</td>\n",
              "      <td>0</td>\n",
              "      <td>0</td>\n",
              "      <td>8</td>\n",
              "      <td>10</td>\n",
              "      <td>9</td>\n",
              "      <td>6</td>\n",
              "      <td>4</td>\n",
              "      <td>...</td>\n",
              "      <td>5</td>\n",
              "      <td>0</td>\n",
              "      <td>48</td>\n",
              "      <td>29</td>\n",
              "      <td>0.60</td>\n",
              "      <td>77</td>\n",
              "      <td>3.3</td>\n",
              "      <td>48</td>\n",
              "      <td>29</td>\n",
              "      <td>3</td>\n",
              "    </tr>\n",
              "    <tr>\n",
              "      <th>4501</th>\n",
              "      <td>49140712</td>\n",
              "      <td>485</td>\n",
              "      <td>0</td>\n",
              "      <td>0</td>\n",
              "      <td>2</td>\n",
              "      <td>0</td>\n",
              "      <td>2</td>\n",
              "      <td>2</td>\n",
              "      <td>8</td>\n",
              "      <td>2</td>\n",
              "      <td>...</td>\n",
              "      <td>13</td>\n",
              "      <td>4</td>\n",
              "      <td>44</td>\n",
              "      <td>104</td>\n",
              "      <td>1.00</td>\n",
              "      <td>148</td>\n",
              "      <td>3.3</td>\n",
              "      <td>82</td>\n",
              "      <td>66</td>\n",
              "      <td>4</td>\n",
              "    </tr>\n",
              "    <tr>\n",
              "      <th>5193</th>\n",
              "      <td>66384659</td>\n",
              "      <td>941</td>\n",
              "      <td>9</td>\n",
              "      <td>9</td>\n",
              "      <td>9</td>\n",
              "      <td>7</td>\n",
              "      <td>12</td>\n",
              "      <td>16</td>\n",
              "      <td>9</td>\n",
              "      <td>7</td>\n",
              "      <td>...</td>\n",
              "      <td>14</td>\n",
              "      <td>11</td>\n",
              "      <td>118</td>\n",
              "      <td>169</td>\n",
              "      <td>1.00</td>\n",
              "      <td>287</td>\n",
              "      <td>3.3</td>\n",
              "      <td>126</td>\n",
              "      <td>161</td>\n",
              "      <td>5</td>\n",
              "    </tr>\n",
              "  </tbody>\n",
              "</table>\n",
              "<p>5 rows × 38 columns</p>\n",
              "</div>\n",
              "      <button class=\"colab-df-convert\" onclick=\"convertToInteractive('df-6d003dd7-dc70-44f3-a2a6-c23f8560b378')\"\n",
              "              title=\"Convert this dataframe to an interactive table.\"\n",
              "              style=\"display:none;\">\n",
              "        \n",
              "  <svg xmlns=\"http://www.w3.org/2000/svg\" height=\"24px\"viewBox=\"0 0 24 24\"\n",
              "       width=\"24px\">\n",
              "    <path d=\"M0 0h24v24H0V0z\" fill=\"none\"/>\n",
              "    <path d=\"M18.56 5.44l.94 2.06.94-2.06 2.06-.94-2.06-.94-.94-2.06-.94 2.06-2.06.94zm-11 1L8.5 8.5l.94-2.06 2.06-.94-2.06-.94L8.5 2.5l-.94 2.06-2.06.94zm10 10l.94 2.06.94-2.06 2.06-.94-2.06-.94-.94-2.06-.94 2.06-2.06.94z\"/><path d=\"M17.41 7.96l-1.37-1.37c-.4-.4-.92-.59-1.43-.59-.52 0-1.04.2-1.43.59L10.3 9.45l-7.72 7.72c-.78.78-.78 2.05 0 2.83L4 21.41c.39.39.9.59 1.41.59.51 0 1.02-.2 1.41-.59l7.78-7.78 2.81-2.81c.8-.78.8-2.07 0-2.86zM5.41 20L4 18.59l7.72-7.72 1.47 1.35L5.41 20z\"/>\n",
              "  </svg>\n",
              "      </button>\n",
              "      \n",
              "  <style>\n",
              "    .colab-df-container {\n",
              "      display:flex;\n",
              "      flex-wrap:wrap;\n",
              "      gap: 12px;\n",
              "    }\n",
              "\n",
              "    .colab-df-convert {\n",
              "      background-color: #E8F0FE;\n",
              "      border: none;\n",
              "      border-radius: 50%;\n",
              "      cursor: pointer;\n",
              "      display: none;\n",
              "      fill: #1967D2;\n",
              "      height: 32px;\n",
              "      padding: 0 0 0 0;\n",
              "      width: 32px;\n",
              "    }\n",
              "\n",
              "    .colab-df-convert:hover {\n",
              "      background-color: #E2EBFA;\n",
              "      box-shadow: 0px 1px 2px rgba(60, 64, 67, 0.3), 0px 1px 3px 1px rgba(60, 64, 67, 0.15);\n",
              "      fill: #174EA6;\n",
              "    }\n",
              "\n",
              "    [theme=dark] .colab-df-convert {\n",
              "      background-color: #3B4455;\n",
              "      fill: #D2E3FC;\n",
              "    }\n",
              "\n",
              "    [theme=dark] .colab-df-convert:hover {\n",
              "      background-color: #434B5C;\n",
              "      box-shadow: 0px 1px 3px 1px rgba(0, 0, 0, 0.15);\n",
              "      filter: drop-shadow(0px 1px 2px rgba(0, 0, 0, 0.3));\n",
              "      fill: #FFFFFF;\n",
              "    }\n",
              "  </style>\n",
              "\n",
              "      <script>\n",
              "        const buttonEl =\n",
              "          document.querySelector('#df-6d003dd7-dc70-44f3-a2a6-c23f8560b378 button.colab-df-convert');\n",
              "        buttonEl.style.display =\n",
              "          google.colab.kernel.accessAllowed ? 'block' : 'none';\n",
              "\n",
              "        async function convertToInteractive(key) {\n",
              "          const element = document.querySelector('#df-6d003dd7-dc70-44f3-a2a6-c23f8560b378');\n",
              "          const dataTable =\n",
              "            await google.colab.kernel.invokeFunction('convertToInteractive',\n",
              "                                                     [key], {});\n",
              "          if (!dataTable) return;\n",
              "\n",
              "          const docLinkHtml = 'Like what you see? Visit the ' +\n",
              "            '<a target=\"_blank\" href=https://colab.research.google.com/notebooks/data_table.ipynb>data table notebook</a>'\n",
              "            + ' to learn more about interactive tables.';\n",
              "          element.innerHTML = '';\n",
              "          dataTable['output_type'] = 'display_data';\n",
              "          await google.colab.output.renderOutput(dataTable, element);\n",
              "          const docLink = document.createElement('div');\n",
              "          docLink.innerHTML = docLinkHtml;\n",
              "          element.appendChild(docLink);\n",
              "        }\n",
              "      </script>\n",
              "    </div>\n",
              "  </div>\n",
              "  "
            ]
          },
          "metadata": {},
          "execution_count": 159
        }
      ],
      "source": [
        "# shuffle data within cohorts\n",
        "def shuffle(df,      # dataframe to shuffle data \n",
        "            cohorts): # cohorts to shuffle data within\n",
        "    shuffle_df = pd.DataFrame()\n",
        "    for cohort in set(cohorts):\n",
        "        shuffle_df = shuffle_df.append(df[df.cohort == cohort].sample(frac=1))\n",
        "    return shuffle_df\n",
        "\n",
        "df = shuffle(df, df['cohort'].tolist())\n",
        "df.reset_index(drop=True, inplace = True)\n",
        "df.sample(n=5)"
      ]
    },
    {
      "cell_type": "markdown",
      "id": "e4cfa945",
      "metadata": {
        "id": "e4cfa945"
      },
      "source": [
        "<H3>cohorts features calc</H3>"
      ]
    },
    {
      "cell_type": "code",
      "execution_count": null,
      "id": "fa9ec091",
      "metadata": {
        "id": "fa9ec091",
        "scrolled": false
      },
      "outputs": [],
      "source": [
        "avr_check = {}\n",
        "for cohort in range(1, cohorts+1):\n",
        "    avr_check[cohort] = df['avr_check'].loc[df['cohort'] == cohort].mean()\n",
        "\n",
        "avr_rides = {}\n",
        "for cohort in range(1, cohorts+1):\n",
        "    avr_rides[cohort] = df['total_rides'].loc[df['cohort'] == cohort].mean()\n",
        "    \n",
        "avr_wd_rides = {}\n",
        "for cohort in range(1, cohorts+1):\n",
        "    avr_wd_rides[cohort] = df['WD_rides'].loc[df['cohort'] == cohort].mean()\n",
        "    \n",
        "avr_wk_rides = {}\n",
        "for cohort in range(1, cohorts+1):\n",
        "    avr_wk_rides[cohort] = df['WK_rides'].loc[df['cohort'] == cohort].mean()\n",
        "\n",
        "drivers = {}\n",
        "for cohort in range(1, cohorts+1):\n",
        "    drivers[cohort] = df['id'].loc[df['cohort'] == cohort].count()\n",
        "\n",
        "avr_retention = {}\n",
        "for cohort in range(1, cohorts+1):\n",
        "    avr_retention[cohort] = df['retention'].loc[df['cohort'] == cohort].mean()\n",
        "\n",
        "cohort_df = pd.DataFrame(list(avr_check.items()),\n",
        "                   columns=['cohort', 'avr_check'])\n",
        "cohort_df['drivers'] = list(drivers.values())\n",
        "cohort_df['avr_rides'] = list(avr_rides.values())\n",
        "cohort_df['WK_all_rides'] = list(avr_wk_rides.values()) # quantity of rides on weekends \n",
        "cohort_df['WD_all_rides'] = list(avr_wd_rides.values()) # quantity of rides on workdays \n",
        "\n",
        "\n",
        "# 'WK_avr_rides' - # avr. rides on a particular weekend\n",
        "weekends_days = np.mean([len(fridays), len(saturdays), len(sundays)])\n",
        "cohort_df['WK_avr_rides'] = cohort_df['WK_all_rides'] / weekends_days\n",
        "\n",
        "# 'WD_avr_rides' - # avr. rides on a particular weekend\n",
        "workdays_days = len(workdays)\n",
        "cohort_df['WD_avr_rides'] = cohort_df['WD_all_rides'] / workdays_days\n",
        "\n",
        "# retention calc\n",
        "cohort_df = pd.merge(df.groupby('cohort')['retention'].mean(),\n",
        "                     cohort_df,\n",
        "                     on=\"cohort\")\n",
        "\n",
        "cohort_df['avr_rev_total'] = (cohort_df['avr_check'] * cohort_df['avr_rides'] * commission).astype(int)\n",
        "cohort_df = cohort_df.round({'retention': 2,\n",
        "                             'avr_check': 1,\n",
        "                             'avr_rides': 1,\n",
        "                             'WK_all_rides': 1,\n",
        "                             'WD_all_rides': 1,\n",
        "                             'WK_avr_rides': 1,\n",
        "                             'WD_avr_rides': 1,\n",
        "                            })"
      ]
    },
    {
      "cell_type": "markdown",
      "id": "7UjPfn1znVWQ",
      "metadata": {
        "id": "7UjPfn1znVWQ"
      },
      "source": [
        "## Описание когорт "
      ]
    },
    {
      "cell_type": "code",
      "execution_count": null,
      "id": "6v8TTASOfkoy",
      "metadata": {
        "colab": {
          "base_uri": "https://localhost:8080/"
        },
        "id": "6v8TTASOfkoy",
        "outputId": "a1384a06-eec2-4594-84f2-f9ab6c661290"
      },
      "outputs": [
        {
          "output_type": "stream",
          "name": "stdout",
          "text": [
            "\n",
            "cohorts and range of rides:\n"
          ]
        },
        {
          "output_type": "execute_result",
          "data": {
            "text/plain": [
              "{1: range(0, 22),\n",
              " 2: range(22, 62),\n",
              " 3: range(62, 119),\n",
              " 4: range(119, 209),\n",
              " 5: range(209, 100000000)}"
            ]
          },
          "metadata": {},
          "execution_count": 161
        }
      ],
      "source": [
        "print('\\ncohorts and range of rides:')\n",
        "all_cohorts"
      ]
    },
    {
      "cell_type": "code",
      "execution_count": null,
      "id": "DpthCUdmnL3f",
      "metadata": {
        "colab": {
          "base_uri": "https://localhost:8080/",
          "height": 268
        },
        "id": "DpthCUdmnL3f",
        "outputId": "481bac5c-1fd2-45ab-e5e6-3e93ce0e0abe"
      },
      "outputs": [
        {
          "output_type": "stream",
          "name": "stdout",
          "text": [
            "описание когорт:\n"
          ]
        },
        {
          "output_type": "execute_result",
          "data": {
            "text/plain": [
              "   cohort  retention  avr_check  drivers  avr_rides  WK_all_rides  \\\n",
              "0       1       0.57        3.3     1515        8.7           4.8   \n",
              "1       2       0.72        3.3     1228       39.2          21.6   \n",
              "2       3       0.82        3.3     1107       89.3          46.9   \n",
              "3       4       0.86        3.3     1043      158.9          78.1   \n",
              "4       5       0.90        3.3     1033      311.5         140.2   \n",
              "\n",
              "   WD_all_rides  WK_avr_rides  WD_avr_rides  avr_rev_total  \n",
              "0           3.9           1.2           0.2              0  \n",
              "1          17.5           5.4           1.1              1  \n",
              "2          42.4          11.7           2.7              3  \n",
              "3          80.9          19.5           5.1              5  \n",
              "4         171.3          35.1          10.7             11  "
            ],
            "text/html": [
              "\n",
              "  <div id=\"df-968a1150-02bf-4dc1-bccd-466ff8b87d78\">\n",
              "    <div class=\"colab-df-container\">\n",
              "      <div>\n",
              "<style scoped>\n",
              "    .dataframe tbody tr th:only-of-type {\n",
              "        vertical-align: middle;\n",
              "    }\n",
              "\n",
              "    .dataframe tbody tr th {\n",
              "        vertical-align: top;\n",
              "    }\n",
              "\n",
              "    .dataframe thead th {\n",
              "        text-align: right;\n",
              "    }\n",
              "</style>\n",
              "<table border=\"1\" class=\"dataframe\">\n",
              "  <thead>\n",
              "    <tr style=\"text-align: right;\">\n",
              "      <th></th>\n",
              "      <th>cohort</th>\n",
              "      <th>retention</th>\n",
              "      <th>avr_check</th>\n",
              "      <th>drivers</th>\n",
              "      <th>avr_rides</th>\n",
              "      <th>WK_all_rides</th>\n",
              "      <th>WD_all_rides</th>\n",
              "      <th>WK_avr_rides</th>\n",
              "      <th>WD_avr_rides</th>\n",
              "      <th>avr_rev_total</th>\n",
              "    </tr>\n",
              "  </thead>\n",
              "  <tbody>\n",
              "    <tr>\n",
              "      <th>0</th>\n",
              "      <td>1</td>\n",
              "      <td>0.57</td>\n",
              "      <td>3.3</td>\n",
              "      <td>1515</td>\n",
              "      <td>8.7</td>\n",
              "      <td>4.8</td>\n",
              "      <td>3.9</td>\n",
              "      <td>1.2</td>\n",
              "      <td>0.2</td>\n",
              "      <td>0</td>\n",
              "    </tr>\n",
              "    <tr>\n",
              "      <th>1</th>\n",
              "      <td>2</td>\n",
              "      <td>0.72</td>\n",
              "      <td>3.3</td>\n",
              "      <td>1228</td>\n",
              "      <td>39.2</td>\n",
              "      <td>21.6</td>\n",
              "      <td>17.5</td>\n",
              "      <td>5.4</td>\n",
              "      <td>1.1</td>\n",
              "      <td>1</td>\n",
              "    </tr>\n",
              "    <tr>\n",
              "      <th>2</th>\n",
              "      <td>3</td>\n",
              "      <td>0.82</td>\n",
              "      <td>3.3</td>\n",
              "      <td>1107</td>\n",
              "      <td>89.3</td>\n",
              "      <td>46.9</td>\n",
              "      <td>42.4</td>\n",
              "      <td>11.7</td>\n",
              "      <td>2.7</td>\n",
              "      <td>3</td>\n",
              "    </tr>\n",
              "    <tr>\n",
              "      <th>3</th>\n",
              "      <td>4</td>\n",
              "      <td>0.86</td>\n",
              "      <td>3.3</td>\n",
              "      <td>1043</td>\n",
              "      <td>158.9</td>\n",
              "      <td>78.1</td>\n",
              "      <td>80.9</td>\n",
              "      <td>19.5</td>\n",
              "      <td>5.1</td>\n",
              "      <td>5</td>\n",
              "    </tr>\n",
              "    <tr>\n",
              "      <th>4</th>\n",
              "      <td>5</td>\n",
              "      <td>0.90</td>\n",
              "      <td>3.3</td>\n",
              "      <td>1033</td>\n",
              "      <td>311.5</td>\n",
              "      <td>140.2</td>\n",
              "      <td>171.3</td>\n",
              "      <td>35.1</td>\n",
              "      <td>10.7</td>\n",
              "      <td>11</td>\n",
              "    </tr>\n",
              "  </tbody>\n",
              "</table>\n",
              "</div>\n",
              "      <button class=\"colab-df-convert\" onclick=\"convertToInteractive('df-968a1150-02bf-4dc1-bccd-466ff8b87d78')\"\n",
              "              title=\"Convert this dataframe to an interactive table.\"\n",
              "              style=\"display:none;\">\n",
              "        \n",
              "  <svg xmlns=\"http://www.w3.org/2000/svg\" height=\"24px\"viewBox=\"0 0 24 24\"\n",
              "       width=\"24px\">\n",
              "    <path d=\"M0 0h24v24H0V0z\" fill=\"none\"/>\n",
              "    <path d=\"M18.56 5.44l.94 2.06.94-2.06 2.06-.94-2.06-.94-.94-2.06-.94 2.06-2.06.94zm-11 1L8.5 8.5l.94-2.06 2.06-.94-2.06-.94L8.5 2.5l-.94 2.06-2.06.94zm10 10l.94 2.06.94-2.06 2.06-.94-2.06-.94-.94-2.06-.94 2.06-2.06.94z\"/><path d=\"M17.41 7.96l-1.37-1.37c-.4-.4-.92-.59-1.43-.59-.52 0-1.04.2-1.43.59L10.3 9.45l-7.72 7.72c-.78.78-.78 2.05 0 2.83L4 21.41c.39.39.9.59 1.41.59.51 0 1.02-.2 1.41-.59l7.78-7.78 2.81-2.81c.8-.78.8-2.07 0-2.86zM5.41 20L4 18.59l7.72-7.72 1.47 1.35L5.41 20z\"/>\n",
              "  </svg>\n",
              "      </button>\n",
              "      \n",
              "  <style>\n",
              "    .colab-df-container {\n",
              "      display:flex;\n",
              "      flex-wrap:wrap;\n",
              "      gap: 12px;\n",
              "    }\n",
              "\n",
              "    .colab-df-convert {\n",
              "      background-color: #E8F0FE;\n",
              "      border: none;\n",
              "      border-radius: 50%;\n",
              "      cursor: pointer;\n",
              "      display: none;\n",
              "      fill: #1967D2;\n",
              "      height: 32px;\n",
              "      padding: 0 0 0 0;\n",
              "      width: 32px;\n",
              "    }\n",
              "\n",
              "    .colab-df-convert:hover {\n",
              "      background-color: #E2EBFA;\n",
              "      box-shadow: 0px 1px 2px rgba(60, 64, 67, 0.3), 0px 1px 3px 1px rgba(60, 64, 67, 0.15);\n",
              "      fill: #174EA6;\n",
              "    }\n",
              "\n",
              "    [theme=dark] .colab-df-convert {\n",
              "      background-color: #3B4455;\n",
              "      fill: #D2E3FC;\n",
              "    }\n",
              "\n",
              "    [theme=dark] .colab-df-convert:hover {\n",
              "      background-color: #434B5C;\n",
              "      box-shadow: 0px 1px 3px 1px rgba(0, 0, 0, 0.15);\n",
              "      filter: drop-shadow(0px 1px 2px rgba(0, 0, 0, 0.3));\n",
              "      fill: #FFFFFF;\n",
              "    }\n",
              "  </style>\n",
              "\n",
              "      <script>\n",
              "        const buttonEl =\n",
              "          document.querySelector('#df-968a1150-02bf-4dc1-bccd-466ff8b87d78 button.colab-df-convert');\n",
              "        buttonEl.style.display =\n",
              "          google.colab.kernel.accessAllowed ? 'block' : 'none';\n",
              "\n",
              "        async function convertToInteractive(key) {\n",
              "          const element = document.querySelector('#df-968a1150-02bf-4dc1-bccd-466ff8b87d78');\n",
              "          const dataTable =\n",
              "            await google.colab.kernel.invokeFunction('convertToInteractive',\n",
              "                                                     [key], {});\n",
              "          if (!dataTable) return;\n",
              "\n",
              "          const docLinkHtml = 'Like what you see? Visit the ' +\n",
              "            '<a target=\"_blank\" href=https://colab.research.google.com/notebooks/data_table.ipynb>data table notebook</a>'\n",
              "            + ' to learn more about interactive tables.';\n",
              "          element.innerHTML = '';\n",
              "          dataTable['output_type'] = 'display_data';\n",
              "          await google.colab.output.renderOutput(dataTable, element);\n",
              "          const docLink = document.createElement('div');\n",
              "          docLink.innerHTML = docLinkHtml;\n",
              "          element.appendChild(docLink);\n",
              "        }\n",
              "      </script>\n",
              "    </div>\n",
              "  </div>\n",
              "  "
            ]
          },
          "metadata": {},
          "execution_count": 162
        }
      ],
      "source": [
        "print(\"описание когорт:\")\n",
        "cohort_df"
      ]
    },
    {
      "cell_type": "markdown",
      "id": "4f1e47fc",
      "metadata": {
        "id": "4f1e47fc"
      },
      "source": [
        "<h3>Target Rides and Incentive</h3>"
      ]
    },
    {
      "cell_type": "code",
      "execution_count": null,
      "id": "b118ec48",
      "metadata": {
        "id": "b118ec48"
      },
      "outputs": [],
      "source": [
        "# bonus to be given as an inventive by groups, % from average check of the cohort  \n",
        "# 1 equals 100% from the GMV of the target rides\n",
        "# example: gmv = $10, 0.35 = $3.5 bonus will be given \n",
        "\n",
        "bonuses = {           \n",
        "    1: 0,\n",
        "    2: 1,\n",
        "    3: 1,\n",
        "    4: 1,\n",
        "    5: 0}"
      ]
    },
    {
      "cell_type": "markdown",
      "id": "o2ylUAgRoQGE",
      "metadata": {
        "id": "o2ylUAgRoQGE"
      },
      "source": [
        "## Расчитываем цели и вознаграждения"
      ]
    },
    {
      "cell_type": "code",
      "execution_count": null,
      "id": "9ab9f106",
      "metadata": {
        "id": "9ab9f106"
      },
      "outputs": [],
      "source": [
        "# cohort_rides - maximum rides out of workdays & weekends rides\n",
        "#cohort_df['cohort_rides'] = cohort_df[['WK_avr_rides', 'WD_avr_rides']].max(axis=1)\n",
        "\n",
        "# rounding up all rides\n",
        "cohort_df['cohort_rides'] = cohort_df['WK_avr_rides'].apply(lambda x: math.ceil(x))\n",
        "\n",
        "# calc the target rides\n",
        "new_rides = {}\n",
        "for cohort in range(1, cohorts):\n",
        "    new_rides[cohort] = cohort_df.loc[cohort,'cohort_rides'] - cohort_df.loc[cohort-1,'cohort_rides']\n",
        "\n",
        "new_rides[cohorts] = 0 # set zero for the last upper cohort as there is no insentive\n",
        "\n",
        "# 'WK_rides_extra' - Weekend Extra Rides to be done\n",
        "cohort_df['WK_rides_extra'] = cohort_df['cohort'].map(new_rides) + 1\n",
        "# add 1 additional ride to overachieve cohort border \n",
        "    \n",
        "# 'rides_tbd' - all weekends rides to get the bonus\n",
        "cohort_df['rides_tbd'] = cohort_df['cohort_rides'] + cohort_df['WK_rides_extra']\n",
        "cohort_df.loc[cohorts-1,'rides_tbd'] = 0 # the target for the senior cohort shall be zero\n",
        "\n",
        "# incentive for drivers\n",
        "cohort_df['bonus, %'] = cohort_df['cohort'].map(bonuses)\n",
        "cohort_df['driver_bonus'] = cohort_df['WK_rides_extra'] * cohort_df['avr_check'] * cohort_df['bonus, %']\n",
        "cohort_df = cohort_df.round({'driver_bonus': 0})"
      ]
    },
    {
      "cell_type": "markdown",
      "source": [
        "## Bonus adjustments (if required)\n",
        " "
      ],
      "metadata": {
        "id": "1T0K3Zc7x9NS"
      },
      "id": "1T0K3Zc7x9NS"
    },
    {
      "cell_type": "markdown",
      "source": [
        "pre-calc bonuses based on % of the Average Check<br>"
      ],
      "metadata": {
        "id": "cGDDRDefyQ23"
      },
      "id": "cGDDRDefyQ23"
    },
    {
      "cell_type": "code",
      "source": [
        "cohort_df[['cohort', 'avr_check', 'bonus, %', 'driver_bonus']]"
      ],
      "metadata": {
        "colab": {
          "base_uri": "https://localhost:8080/",
          "height": 206
        },
        "id": "hHs8G4Qsx8Pm",
        "outputId": "df33dc7c-305d-42f3-8837-931781f8f31e"
      },
      "id": "hHs8G4Qsx8Pm",
      "execution_count": null,
      "outputs": [
        {
          "output_type": "execute_result",
          "data": {
            "text/plain": [
              "   cohort  avr_check  bonus, %  driver_bonus\n",
              "0       1        3.3         0           0.0\n",
              "1       2        3.3         1          23.0\n",
              "2       3        3.3         1          30.0\n",
              "3       4        3.3         1          56.0\n",
              "4       5        3.3         0           0.0"
            ],
            "text/html": [
              "\n",
              "  <div id=\"df-52e0d7b0-59b2-418b-8156-8bdf38d75d63\">\n",
              "    <div class=\"colab-df-container\">\n",
              "      <div>\n",
              "<style scoped>\n",
              "    .dataframe tbody tr th:only-of-type {\n",
              "        vertical-align: middle;\n",
              "    }\n",
              "\n",
              "    .dataframe tbody tr th {\n",
              "        vertical-align: top;\n",
              "    }\n",
              "\n",
              "    .dataframe thead th {\n",
              "        text-align: right;\n",
              "    }\n",
              "</style>\n",
              "<table border=\"1\" class=\"dataframe\">\n",
              "  <thead>\n",
              "    <tr style=\"text-align: right;\">\n",
              "      <th></th>\n",
              "      <th>cohort</th>\n",
              "      <th>avr_check</th>\n",
              "      <th>bonus, %</th>\n",
              "      <th>driver_bonus</th>\n",
              "    </tr>\n",
              "  </thead>\n",
              "  <tbody>\n",
              "    <tr>\n",
              "      <th>0</th>\n",
              "      <td>1</td>\n",
              "      <td>3.3</td>\n",
              "      <td>0</td>\n",
              "      <td>0.0</td>\n",
              "    </tr>\n",
              "    <tr>\n",
              "      <th>1</th>\n",
              "      <td>2</td>\n",
              "      <td>3.3</td>\n",
              "      <td>1</td>\n",
              "      <td>23.0</td>\n",
              "    </tr>\n",
              "    <tr>\n",
              "      <th>2</th>\n",
              "      <td>3</td>\n",
              "      <td>3.3</td>\n",
              "      <td>1</td>\n",
              "      <td>30.0</td>\n",
              "    </tr>\n",
              "    <tr>\n",
              "      <th>3</th>\n",
              "      <td>4</td>\n",
              "      <td>3.3</td>\n",
              "      <td>1</td>\n",
              "      <td>56.0</td>\n",
              "    </tr>\n",
              "    <tr>\n",
              "      <th>4</th>\n",
              "      <td>5</td>\n",
              "      <td>3.3</td>\n",
              "      <td>0</td>\n",
              "      <td>0.0</td>\n",
              "    </tr>\n",
              "  </tbody>\n",
              "</table>\n",
              "</div>\n",
              "      <button class=\"colab-df-convert\" onclick=\"convertToInteractive('df-52e0d7b0-59b2-418b-8156-8bdf38d75d63')\"\n",
              "              title=\"Convert this dataframe to an interactive table.\"\n",
              "              style=\"display:none;\">\n",
              "        \n",
              "  <svg xmlns=\"http://www.w3.org/2000/svg\" height=\"24px\"viewBox=\"0 0 24 24\"\n",
              "       width=\"24px\">\n",
              "    <path d=\"M0 0h24v24H0V0z\" fill=\"none\"/>\n",
              "    <path d=\"M18.56 5.44l.94 2.06.94-2.06 2.06-.94-2.06-.94-.94-2.06-.94 2.06-2.06.94zm-11 1L8.5 8.5l.94-2.06 2.06-.94-2.06-.94L8.5 2.5l-.94 2.06-2.06.94zm10 10l.94 2.06.94-2.06 2.06-.94-2.06-.94-.94-2.06-.94 2.06-2.06.94z\"/><path d=\"M17.41 7.96l-1.37-1.37c-.4-.4-.92-.59-1.43-.59-.52 0-1.04.2-1.43.59L10.3 9.45l-7.72 7.72c-.78.78-.78 2.05 0 2.83L4 21.41c.39.39.9.59 1.41.59.51 0 1.02-.2 1.41-.59l7.78-7.78 2.81-2.81c.8-.78.8-2.07 0-2.86zM5.41 20L4 18.59l7.72-7.72 1.47 1.35L5.41 20z\"/>\n",
              "  </svg>\n",
              "      </button>\n",
              "      \n",
              "  <style>\n",
              "    .colab-df-container {\n",
              "      display:flex;\n",
              "      flex-wrap:wrap;\n",
              "      gap: 12px;\n",
              "    }\n",
              "\n",
              "    .colab-df-convert {\n",
              "      background-color: #E8F0FE;\n",
              "      border: none;\n",
              "      border-radius: 50%;\n",
              "      cursor: pointer;\n",
              "      display: none;\n",
              "      fill: #1967D2;\n",
              "      height: 32px;\n",
              "      padding: 0 0 0 0;\n",
              "      width: 32px;\n",
              "    }\n",
              "\n",
              "    .colab-df-convert:hover {\n",
              "      background-color: #E2EBFA;\n",
              "      box-shadow: 0px 1px 2px rgba(60, 64, 67, 0.3), 0px 1px 3px 1px rgba(60, 64, 67, 0.15);\n",
              "      fill: #174EA6;\n",
              "    }\n",
              "\n",
              "    [theme=dark] .colab-df-convert {\n",
              "      background-color: #3B4455;\n",
              "      fill: #D2E3FC;\n",
              "    }\n",
              "\n",
              "    [theme=dark] .colab-df-convert:hover {\n",
              "      background-color: #434B5C;\n",
              "      box-shadow: 0px 1px 3px 1px rgba(0, 0, 0, 0.15);\n",
              "      filter: drop-shadow(0px 1px 2px rgba(0, 0, 0, 0.3));\n",
              "      fill: #FFFFFF;\n",
              "    }\n",
              "  </style>\n",
              "\n",
              "      <script>\n",
              "        const buttonEl =\n",
              "          document.querySelector('#df-52e0d7b0-59b2-418b-8156-8bdf38d75d63 button.colab-df-convert');\n",
              "        buttonEl.style.display =\n",
              "          google.colab.kernel.accessAllowed ? 'block' : 'none';\n",
              "\n",
              "        async function convertToInteractive(key) {\n",
              "          const element = document.querySelector('#df-52e0d7b0-59b2-418b-8156-8bdf38d75d63');\n",
              "          const dataTable =\n",
              "            await google.colab.kernel.invokeFunction('convertToInteractive',\n",
              "                                                     [key], {});\n",
              "          if (!dataTable) return;\n",
              "\n",
              "          const docLinkHtml = 'Like what you see? Visit the ' +\n",
              "            '<a target=\"_blank\" href=https://colab.research.google.com/notebooks/data_table.ipynb>data table notebook</a>'\n",
              "            + ' to learn more about interactive tables.';\n",
              "          element.innerHTML = '';\n",
              "          dataTable['output_type'] = 'display_data';\n",
              "          await google.colab.output.renderOutput(dataTable, element);\n",
              "          const docLink = document.createElement('div');\n",
              "          docLink.innerHTML = docLinkHtml;\n",
              "          element.appendChild(docLink);\n",
              "        }\n",
              "      </script>\n",
              "    </div>\n",
              "  </div>\n",
              "  "
            ]
          },
          "metadata": {},
          "execution_count": 165
        }
      ]
    },
    {
      "cell_type": "markdown",
      "source": [
        "below is a correction of the pre-calc bonuses for each cohort (absolut value in USD)"
      ],
      "metadata": {
        "id": "lMHHXJqTFht5"
      },
      "id": "lMHHXJqTFht5"
    },
    {
      "cell_type": "code",
      "source": [
        "driver_bonus = {           \n",
        "    1: 5.0,\n",
        "    2: 4.0,\n",
        "    3: 8.0,\n",
        "    4: 17.0,\n",
        "    5: 0.0}\n",
        "\n",
        "cohort_df['driver_bonus'] = cohort_df['cohort'].map(driver_bonus)"
      ],
      "metadata": {
        "id": "OGlZsJGe17Lm"
      },
      "id": "OGlZsJGe17Lm",
      "execution_count": null,
      "outputs": []
    },
    {
      "cell_type": "markdown",
      "source": [
        "## Rides adjustment (if required)"
      ],
      "metadata": {
        "id": "VfnD_WEii0nj"
      },
      "id": "VfnD_WEii0nj"
    },
    {
      "cell_type": "markdown",
      "source": [
        "below is a correction of the pre-calc rides for each cohort.<br>\n",
        "Figures are <u>increment</u> to \"rides_tbd\".<br>\n",
        "Adjustment can be both negative and positive.\n",
        "\n"
      ],
      "metadata": {
        "id": "h48GLwNKqXgC"
      },
      "id": "h48GLwNKqXgC"
    },
    {
      "cell_type": "code",
      "source": [
        "# figures to be changed:\n",
        "rides_adj = {1:0,\n",
        "             2:3,\n",
        "             3:2,\n",
        "             4:3,\n",
        "             5:0\n",
        "             }"
      ],
      "metadata": {
        "id": "wT7RHkxWmpEo"
      },
      "id": "wT7RHkxWmpEo",
      "execution_count": null,
      "outputs": []
    },
    {
      "cell_type": "code",
      "source": [
        "rides_current = cohort_df['rides_tbd']\n",
        "\n",
        "rides_adj = rides_adj.values()\n",
        "rides_current = list(map(sum, zip(rides_current, rides_adj)))\n",
        "rides_current = dict(zip([i for i in range(1, cohort+2)], rides_current))\n",
        "\n",
        "cohort_df['rides_tbd'] = cohort_df['cohort'].map(rides_current)\n",
        "print(\"new rides:\")\n",
        "for key, value in rides_current.items():\n",
        "  print(key,\":\", value)"
      ],
      "metadata": {
        "id": "10w_V2MrvPNR",
        "outputId": "f269d41b-ebb6-488b-f39c-3d8cf1445ae1",
        "colab": {
          "base_uri": "https://localhost:8080/"
        }
      },
      "id": "10w_V2MrvPNR",
      "execution_count": null,
      "outputs": [
        {
          "output_type": "stream",
          "name": "stdout",
          "text": [
            "new rides:\n",
            "1 : 7\n",
            "2 : 16\n",
            "3 : 23\n",
            "4 : 40\n",
            "5 : 0\n"
          ]
        }
      ]
    },
    {
      "cell_type": "markdown",
      "id": "BO65LaD0ocyV",
      "metadata": {
        "id": "BO65LaD0ocyV"
      },
      "source": [
        "## Результат расчетов"
      ]
    },
    {
      "cell_type": "markdown",
      "id": "ixQ8kx9box-k",
      "metadata": {
        "id": "ixQ8kx9box-k"
      },
      "source": [
        "**WD_avr_rides**    - среднее кол-во поездок в workdays<br> \n",
        "**WK_avr_rides**    - среднее кол-во поездок в weekends<br>\n",
        "**cohort_rides**    - среднее кол-во поездок в когорте<br>\n",
        "**WK_rides_extra**  - на сколько больше надо сделать поездок в выходные<br>\n",
        "**rides_tbd**       - сколько в итоге надо сделать поездок в выходые всего<br>\n",
        "**driver_bonus**    - сколько бонусов предлагаем водителю за выполнение цели<br>\n",
        "**avr_check**       - средний чек водителя (для сравнения)<br>"
      ]
    },
    {
      "cell_type": "code",
      "execution_count": null,
      "id": "7xIFA1TUoaG8",
      "metadata": {
        "colab": {
          "base_uri": "https://localhost:8080/",
          "height": 206
        },
        "id": "7xIFA1TUoaG8",
        "outputId": "de9f47d3-e63c-461a-a51f-c5a8ee9019c0"
      },
      "outputs": [
        {
          "output_type": "execute_result",
          "data": {
            "text/plain": [
              "   cohort  WD_avr_rides  WK_avr_rides  cohort_rides  WK_rides_extra  \\\n",
              "0       1           0.2           1.2             2               5   \n",
              "1       2           1.1           5.4             6               7   \n",
              "2       3           2.7          11.7            12               9   \n",
              "3       4           5.1          19.5            20              17   \n",
              "4       5          10.7          35.1            36               1   \n",
              "\n",
              "   rides_tbd  driver_bonus  avr_check  \n",
              "0          7           5.0        3.3  \n",
              "1         16           4.0        3.3  \n",
              "2         23           8.0        3.3  \n",
              "3         40          17.0        3.3  \n",
              "4          0           0.0        3.3  "
            ],
            "text/html": [
              "\n",
              "  <div id=\"df-a0a50b84-ae92-4f0a-af74-6d9f8f758d08\">\n",
              "    <div class=\"colab-df-container\">\n",
              "      <div>\n",
              "<style scoped>\n",
              "    .dataframe tbody tr th:only-of-type {\n",
              "        vertical-align: middle;\n",
              "    }\n",
              "\n",
              "    .dataframe tbody tr th {\n",
              "        vertical-align: top;\n",
              "    }\n",
              "\n",
              "    .dataframe thead th {\n",
              "        text-align: right;\n",
              "    }\n",
              "</style>\n",
              "<table border=\"1\" class=\"dataframe\">\n",
              "  <thead>\n",
              "    <tr style=\"text-align: right;\">\n",
              "      <th></th>\n",
              "      <th>cohort</th>\n",
              "      <th>WD_avr_rides</th>\n",
              "      <th>WK_avr_rides</th>\n",
              "      <th>cohort_rides</th>\n",
              "      <th>WK_rides_extra</th>\n",
              "      <th>rides_tbd</th>\n",
              "      <th>driver_bonus</th>\n",
              "      <th>avr_check</th>\n",
              "    </tr>\n",
              "  </thead>\n",
              "  <tbody>\n",
              "    <tr>\n",
              "      <th>0</th>\n",
              "      <td>1</td>\n",
              "      <td>0.2</td>\n",
              "      <td>1.2</td>\n",
              "      <td>2</td>\n",
              "      <td>5</td>\n",
              "      <td>7</td>\n",
              "      <td>5.0</td>\n",
              "      <td>3.3</td>\n",
              "    </tr>\n",
              "    <tr>\n",
              "      <th>1</th>\n",
              "      <td>2</td>\n",
              "      <td>1.1</td>\n",
              "      <td>5.4</td>\n",
              "      <td>6</td>\n",
              "      <td>7</td>\n",
              "      <td>16</td>\n",
              "      <td>4.0</td>\n",
              "      <td>3.3</td>\n",
              "    </tr>\n",
              "    <tr>\n",
              "      <th>2</th>\n",
              "      <td>3</td>\n",
              "      <td>2.7</td>\n",
              "      <td>11.7</td>\n",
              "      <td>12</td>\n",
              "      <td>9</td>\n",
              "      <td>23</td>\n",
              "      <td>8.0</td>\n",
              "      <td>3.3</td>\n",
              "    </tr>\n",
              "    <tr>\n",
              "      <th>3</th>\n",
              "      <td>4</td>\n",
              "      <td>5.1</td>\n",
              "      <td>19.5</td>\n",
              "      <td>20</td>\n",
              "      <td>17</td>\n",
              "      <td>40</td>\n",
              "      <td>17.0</td>\n",
              "      <td>3.3</td>\n",
              "    </tr>\n",
              "    <tr>\n",
              "      <th>4</th>\n",
              "      <td>5</td>\n",
              "      <td>10.7</td>\n",
              "      <td>35.1</td>\n",
              "      <td>36</td>\n",
              "      <td>1</td>\n",
              "      <td>0</td>\n",
              "      <td>0.0</td>\n",
              "      <td>3.3</td>\n",
              "    </tr>\n",
              "  </tbody>\n",
              "</table>\n",
              "</div>\n",
              "      <button class=\"colab-df-convert\" onclick=\"convertToInteractive('df-a0a50b84-ae92-4f0a-af74-6d9f8f758d08')\"\n",
              "              title=\"Convert this dataframe to an interactive table.\"\n",
              "              style=\"display:none;\">\n",
              "        \n",
              "  <svg xmlns=\"http://www.w3.org/2000/svg\" height=\"24px\"viewBox=\"0 0 24 24\"\n",
              "       width=\"24px\">\n",
              "    <path d=\"M0 0h24v24H0V0z\" fill=\"none\"/>\n",
              "    <path d=\"M18.56 5.44l.94 2.06.94-2.06 2.06-.94-2.06-.94-.94-2.06-.94 2.06-2.06.94zm-11 1L8.5 8.5l.94-2.06 2.06-.94-2.06-.94L8.5 2.5l-.94 2.06-2.06.94zm10 10l.94 2.06.94-2.06 2.06-.94-2.06-.94-.94-2.06-.94 2.06-2.06.94z\"/><path d=\"M17.41 7.96l-1.37-1.37c-.4-.4-.92-.59-1.43-.59-.52 0-1.04.2-1.43.59L10.3 9.45l-7.72 7.72c-.78.78-.78 2.05 0 2.83L4 21.41c.39.39.9.59 1.41.59.51 0 1.02-.2 1.41-.59l7.78-7.78 2.81-2.81c.8-.78.8-2.07 0-2.86zM5.41 20L4 18.59l7.72-7.72 1.47 1.35L5.41 20z\"/>\n",
              "  </svg>\n",
              "      </button>\n",
              "      \n",
              "  <style>\n",
              "    .colab-df-container {\n",
              "      display:flex;\n",
              "      flex-wrap:wrap;\n",
              "      gap: 12px;\n",
              "    }\n",
              "\n",
              "    .colab-df-convert {\n",
              "      background-color: #E8F0FE;\n",
              "      border: none;\n",
              "      border-radius: 50%;\n",
              "      cursor: pointer;\n",
              "      display: none;\n",
              "      fill: #1967D2;\n",
              "      height: 32px;\n",
              "      padding: 0 0 0 0;\n",
              "      width: 32px;\n",
              "    }\n",
              "\n",
              "    .colab-df-convert:hover {\n",
              "      background-color: #E2EBFA;\n",
              "      box-shadow: 0px 1px 2px rgba(60, 64, 67, 0.3), 0px 1px 3px 1px rgba(60, 64, 67, 0.15);\n",
              "      fill: #174EA6;\n",
              "    }\n",
              "\n",
              "    [theme=dark] .colab-df-convert {\n",
              "      background-color: #3B4455;\n",
              "      fill: #D2E3FC;\n",
              "    }\n",
              "\n",
              "    [theme=dark] .colab-df-convert:hover {\n",
              "      background-color: #434B5C;\n",
              "      box-shadow: 0px 1px 3px 1px rgba(0, 0, 0, 0.15);\n",
              "      filter: drop-shadow(0px 1px 2px rgba(0, 0, 0, 0.3));\n",
              "      fill: #FFFFFF;\n",
              "    }\n",
              "  </style>\n",
              "\n",
              "      <script>\n",
              "        const buttonEl =\n",
              "          document.querySelector('#df-a0a50b84-ae92-4f0a-af74-6d9f8f758d08 button.colab-df-convert');\n",
              "        buttonEl.style.display =\n",
              "          google.colab.kernel.accessAllowed ? 'block' : 'none';\n",
              "\n",
              "        async function convertToInteractive(key) {\n",
              "          const element = document.querySelector('#df-a0a50b84-ae92-4f0a-af74-6d9f8f758d08');\n",
              "          const dataTable =\n",
              "            await google.colab.kernel.invokeFunction('convertToInteractive',\n",
              "                                                     [key], {});\n",
              "          if (!dataTable) return;\n",
              "\n",
              "          const docLinkHtml = 'Like what you see? Visit the ' +\n",
              "            '<a target=\"_blank\" href=https://colab.research.google.com/notebooks/data_table.ipynb>data table notebook</a>'\n",
              "            + ' to learn more about interactive tables.';\n",
              "          element.innerHTML = '';\n",
              "          dataTable['output_type'] = 'display_data';\n",
              "          await google.colab.output.renderOutput(dataTable, element);\n",
              "          const docLink = document.createElement('div');\n",
              "          docLink.innerHTML = docLinkHtml;\n",
              "          element.appendChild(docLink);\n",
              "        }\n",
              "      </script>\n",
              "    </div>\n",
              "  </div>\n",
              "  "
            ]
          },
          "metadata": {},
          "execution_count": 169
        }
      ],
      "source": [
        "cohort_df[['cohort',\n",
        "           'WD_avr_rides',\n",
        "           'WK_avr_rides',\n",
        "           'cohort_rides',\n",
        "           'WK_rides_extra',\n",
        "           'rides_tbd',\n",
        "           'driver_bonus',\n",
        "           'avr_check']]"
      ]
    },
    {
      "cell_type": "markdown",
      "id": "e2821260",
      "metadata": {
        "id": "e2821260"
      },
      "source": [
        "## Расчитываем окупаемость"
      ]
    },
    {
      "cell_type": "markdown",
      "id": "52bd53d9",
      "metadata": {
        "id": "52bd53d9"
      },
      "source": [
        "<h3>Instant revenue and costs</h3>"
      ]
    },
    {
      "cell_type": "code",
      "execution_count": null,
      "id": "a18ae808",
      "metadata": {
        "id": "a18ae808",
        "colab": {
          "base_uri": "https://localhost:8080/"
        },
        "outputId": "8bdf0dc6-fe2a-45cd-c4e1-ddc577954b87"
      },
      "outputs": [
        {
          "output_type": "stream",
          "name": "stdout",
          "text": [
            "instant revenue: 253\n",
            "instant costs  : 5861\n",
            "instant balance: -5607\n"
          ]
        }
      ],
      "source": [
        "# instant revenue\n",
        "cohort_df['win_rate'] = win_rate\n",
        "\n",
        "# costs\n",
        "cohort_df['costs'] = cohort_df['driver_bonus'] * \\\n",
        "    cohort_df['drivers'] * win_rate\n",
        "\n",
        "# extra revenue for the company\n",
        "cohort_df['ID_extra_rev'] = cohort_df['WK_rides_extra'] \\\n",
        "    * cohort_df['avr_check'] \\\n",
        "    * cohort_df['drivers'] \\\n",
        "    * win_rate \\\n",
        "    * commission\n",
        "\n",
        "instant_rev = cohort_df['ID_extra_rev'].sum()\n",
        "instant_cost = cohort_df['costs'].sum()\n",
        "\n",
        "print(\"instant revenue:\", int(instant_rev))\n",
        "print(\"instant costs  :\", int(instant_cost))\n",
        "print(\"instant balance:\", int(instant_rev - instant_cost))"
      ]
    },
    {
      "cell_type": "markdown",
      "id": "6ec4eea7",
      "metadata": {
        "id": "6ec4eea7"
      },
      "source": [
        "<h2>Perspective revenue projection</h2>"
      ]
    },
    {
      "cell_type": "markdown",
      "id": "c37d682c",
      "metadata": {
        "id": "c37d682c"
      },
      "source": [
        "<h3>Target is not fullfilled</h3>"
      ]
    },
    {
      "cell_type": "code",
      "execution_count": null,
      "id": "f0dc527e",
      "metadata": {
        "id": "f0dc527e"
      },
      "outputs": [],
      "source": [
        "# target IS NOT fulfilled\n",
        "# 'P: not FF: rev' - Perspective Not Fulfilled: Revenue\n",
        "\n",
        "cohort_df['P: not FF: rev'] = cohort_df['avr_rides'] \\\n",
        "                                * cohort_df['avr_check'] \\\n",
        "                                * cohort_df['retention'] \\\n",
        "                                * period_duration \\\n",
        "                                * commission\n",
        "cohort_df.loc[cohorts-1,'P: not FF: rev'] = 0 #keep the last cohort zero as no an insentive for the cohort"
      ]
    },
    {
      "cell_type": "markdown",
      "id": "a997600c",
      "metadata": {
        "id": "a997600c"
      },
      "source": [
        "<h3>Target is fullfilled</h3>"
      ]
    },
    {
      "cell_type": "code",
      "execution_count": null,
      "id": "5b51a13c",
      "metadata": {
        "id": "5b51a13c"
      },
      "outputs": [],
      "source": [
        "\n",
        "# target IS fulfilled\n",
        "FF_rides = {}\n",
        "for i in range (1, cohorts):\n",
        "    FF_rides[i] = avr_rides[i+1] * period_duration\n",
        "FF_rides[cohorts] = 0\n",
        "cohort_df['P: FF: rides'] = list(FF_rides.values())\n",
        "\n",
        "FF_gmv = {}\n",
        "for i in range (1, cohorts):\n",
        "    FF_gmv[i] = int(FF_rides[i] * avr_check[i+1])\n",
        "FF_gmv[cohorts] = 0\n",
        "cohort_df['P: FF: gmv'] = list(FF_gmv.values())\n",
        "\n",
        "FF_rev = {}\n",
        "for i in range (1, cohorts):\n",
        "    FF_rev[i] = int(FF_gmv[i] * commission * avr_retention[i+1])\n",
        "FF_rev[cohorts] = 0\n",
        "cohort_df['P: FF: rev'] = list(FF_rev.values())\n",
        "\n",
        "cohort_df['P: rev_up'] = (cohort_df['P: FF: rev'] - cohort_df['P: not FF: rev']) \\\n",
        "                                * win_rate \\\n",
        "                                * cohort_df['drivers']\n",
        "\n",
        "persp_rev_up = (cohort_df['P: rev_up'].sum())\n",
        "revenue_total = cohort_df['ID_extra_rev'].sum() + persp_rev_up"
      ]
    },
    {
      "cell_type": "markdown",
      "id": "6xCotJuEr_KE",
      "metadata": {
        "id": "6xCotJuEr_KE"
      },
      "source": [
        "## Результат расчета"
      ]
    },
    {
      "cell_type": "code",
      "execution_count": null,
      "id": "XC9N55EYsESM",
      "metadata": {
        "colab": {
          "base_uri": "https://localhost:8080/"
        },
        "id": "XC9N55EYsESM",
        "outputId": "05e5f8b7-7784-49a7-d2eb-a1c94162cdc7"
      },
      "outputs": [
        {
          "output_type": "stream",
          "name": "stdout",
          "text": [
            "instant revenue      : 253\n",
            "perspective revenue  : 548\n",
            "revenue total        : 802\n",
            "costs:               : 5861\n",
            "profit:              : -5059\n"
          ]
        }
      ],
      "source": [
        "print('instant revenue      :', int(instant_rev))\n",
        "print('perspective revenue  :', int(persp_rev_up))\n",
        "print('revenue total        :', int(revenue_total))\n",
        "print('costs:               :', int(instant_cost))\n",
        "print('profit:              :', int(revenue_total - instant_cost))"
      ]
    },
    {
      "cell_type": "markdown",
      "id": "60fa4a83",
      "metadata": {
        "id": "60fa4a83"
      },
      "source": [
        "## Распределяем водителей по группам для тестов разного размера бонусов"
      ]
    },
    {
      "cell_type": "markdown",
      "id": "TtlsTK-csobd",
      "metadata": {
        "id": "TtlsTK-csobd"
      },
      "source": [
        "распределяем долю бонусов от расчитанных, которые мы отдаем до тестов<br>\n",
        "**control** - не даем бонусы<br>\n",
        "**остальные** - 1: отдаем 100% расчитанных бонусов, 0.5% отдаем 50% и т.д."
      ]
    },
    {
      "cell_type": "code",
      "execution_count": null,
      "id": "e1b5159a",
      "metadata": {
        "id": "e1b5159a"
      },
      "outputs": [],
      "source": [
        "bonus_coeff = {\n",
        "    \"0\": 0,       # control group\n",
        "    \"1\": 0.8,       # 100% of target bonuses will be given to drivers\n",
        "    \"2\": 0.8,     # \n",
        "    \"3\": 1}     # "
      ]
    },
    {
      "cell_type": "code",
      "source": [
        "def get_checksum(driver_df: pd.DataFrame, salt = \"some salt\") -> pd.DataFrame:\n",
        "    # random distribution drivers per groups \n",
        "    byte_arr = driver_df['id'].astype(str) + salt\n",
        "    byte_arr = byte_arr.str.encode(encoding='UTF-8')\n",
        "    driver_df['md5'] = byte_arr.apply(lambda a: int(hashlib.md5(a).hexdigest(), 16))\n",
        "    return df\n",
        "\n",
        "def set_subgroups(df: pd.DataFrame, bonus_coeff: dict) -> pd.DataFrame:\n",
        "    if not 'md5' in df.columns:\n",
        "        raise KeyError('No md5 column')\n",
        "    groups = len(bonus_coeff)\n",
        "    for cohort in range(1, cohorts+1):\n",
        "      df.loc[df['cohort'] == cohort, 'group'] = (df['md5'] % groups).astype('string')\n",
        "    df['bonus_coeff'] = df['group'].map(bonus_coeff)\n",
        "    return df\n",
        "\n",
        "df = get_checksum(df)\n",
        "df = set_subgroups(df, bonus_coeff)"
      ],
      "metadata": {
        "id": "I5Q6mIlZUmvY"
      },
      "id": "I5Q6mIlZUmvY",
      "execution_count": null,
      "outputs": []
    },
    {
      "cell_type": "code",
      "source": [
        "print(\"РАЗБИВКА ВОДИТЕЛЕЙ ПО ГРУППАМ:\")\n",
        "\n",
        "print(\"\\ntotal drivers:\", df.shape[0])\n",
        "for cohort in range (1, cohorts + 1):\n",
        "    \n",
        "    cohort_n = df['cohort'] == cohort\n",
        "    group_n = df['group'] == group\n",
        "    \n",
        "    print(\" cohort\", cohort, \":\", df[cohort_n].shape[0])\n",
        "    for group in set(df['group']):\n",
        "        print(\"  \", group, \":\", df[cohort_n & group_n].shape[0])"
      ],
      "metadata": {
        "colab": {
          "base_uri": "https://localhost:8080/",
          "height": 294
        },
        "id": "o1n9_2qL3Awx",
        "outputId": "87ad8f20-03c2-4ec1-a785-1c7c7107ec2a"
      },
      "id": "o1n9_2qL3Awx",
      "execution_count": null,
      "outputs": [
        {
          "output_type": "stream",
          "name": "stdout",
          "text": [
            "РАЗБИВКА ВОДИТЕЛЕЙ ПО ГРУППАМ:\n",
            "\n",
            "total drivers: 5926\n"
          ]
        },
        {
          "output_type": "error",
          "ename": "NameError",
          "evalue": "ignored",
          "traceback": [
            "\u001b[0;31m---------------------------------------------------------------------------\u001b[0m",
            "\u001b[0;31mNameError\u001b[0m                                 Traceback (most recent call last)",
            "\u001b[0;32m<ipython-input-176-4c782638caec>\u001b[0m in \u001b[0;36m<module>\u001b[0;34m\u001b[0m\n\u001b[1;32m      5\u001b[0m \u001b[0;34m\u001b[0m\u001b[0m\n\u001b[1;32m      6\u001b[0m     \u001b[0mcohort_n\u001b[0m \u001b[0;34m=\u001b[0m \u001b[0mdf\u001b[0m\u001b[0;34m[\u001b[0m\u001b[0;34m'cohort'\u001b[0m\u001b[0;34m]\u001b[0m \u001b[0;34m==\u001b[0m \u001b[0mcohort\u001b[0m\u001b[0;34m\u001b[0m\u001b[0;34m\u001b[0m\u001b[0m\n\u001b[0;32m----> 7\u001b[0;31m     \u001b[0mgroup_n\u001b[0m \u001b[0;34m=\u001b[0m \u001b[0mdf\u001b[0m\u001b[0;34m[\u001b[0m\u001b[0;34m'group'\u001b[0m\u001b[0;34m]\u001b[0m \u001b[0;34m==\u001b[0m \u001b[0mgroup\u001b[0m\u001b[0;34m\u001b[0m\u001b[0;34m\u001b[0m\u001b[0m\n\u001b[0m\u001b[1;32m      8\u001b[0m \u001b[0;34m\u001b[0m\u001b[0m\n\u001b[1;32m      9\u001b[0m     \u001b[0mprint\u001b[0m\u001b[0;34m(\u001b[0m\u001b[0;34m\" cohort\"\u001b[0m\u001b[0;34m,\u001b[0m \u001b[0mcohort\u001b[0m\u001b[0;34m,\u001b[0m \u001b[0;34m\":\"\u001b[0m\u001b[0;34m,\u001b[0m \u001b[0mdf\u001b[0m\u001b[0;34m[\u001b[0m\u001b[0mcohort_n\u001b[0m\u001b[0;34m]\u001b[0m\u001b[0;34m.\u001b[0m\u001b[0mshape\u001b[0m\u001b[0;34m[\u001b[0m\u001b[0;36m0\u001b[0m\u001b[0;34m]\u001b[0m\u001b[0;34m)\u001b[0m\u001b[0;34m\u001b[0m\u001b[0;34m\u001b[0m\u001b[0m\n",
            "\u001b[0;31mNameError\u001b[0m: name 'group' is not defined"
          ]
        }
      ]
    },
    {
      "cell_type": "markdown",
      "source": [
        "## Assign bonuses to drivers"
      ],
      "metadata": {
        "id": "5r4K9UhHsowy"
      },
      "id": "5r4K9UhHsowy"
    },
    {
      "cell_type": "code",
      "source": [
        "# assign target rides and bonuses for each drivers' id\n",
        "df['target_rides'] = df['cohort'].map(rides_current)\n",
        "df['bonus'] = df['cohort'].map(driver_bonus)\n",
        "\n",
        "df['bonus_adj'] = df['bonus'] * df['bonus_coeff']"
      ],
      "metadata": {
        "id": "necFFDQesoYk"
      },
      "id": "necFFDQesoYk",
      "execution_count": null,
      "outputs": []
    },
    {
      "cell_type": "markdown",
      "id": "1kQkdu7RvC7_",
      "metadata": {
        "id": "1kQkdu7RvC7_"
      },
      "source": [
        "## Сохранаяем расчеты в файл"
      ]
    },
    {
      "cell_type": "markdown",
      "id": "SM2ITC4uvHb8",
      "metadata": {
        "id": "SM2ITC4uvHb8"
      },
      "source": [
        "file name format is \"bonus_table_day_month_hour_min\"<br>\n",
        "'id' - driver id<br>\n",
        "'bonus' - initial bonus<br>\n",
        "'bonus_coeff' - reducing coeff for bonus<br>\n",
        "'bonus_adj' - final bonus<br>\n",
        "'target_rides' - target_rides rides quantity<br>"
      ]
    },
    {
      "cell_type": "code",
      "execution_count": null,
      "id": "ca3aae62",
      "metadata": {
        "id": "ca3aae62",
        "colab": {
          "base_uri": "https://localhost:8080/"
        },
        "outputId": "4a93e90b-b696-4ef4-d441-dea2901b5790"
      },
      "outputs": [
        {
          "output_type": "stream",
          "name": "stdout",
          "text": [
            "all done.\n"
          ]
        }
      ],
      "source": [
        "features = ['id', 'cohort', 'target_rides', 'group', 'bonus', \"bonus_coeff\", 'bonus_adj']\n",
        "file_name = \"bonus_table_\" + datetime.today().strftime('%d%m_%H%M') + '.csv'\n",
        "df[features].to_csv(file_name, index=False)\n",
        "print(\"all done.\")"
      ]
    }
  ],
  "metadata": {
    "colab": {
      "provenance": [],
      "include_colab_link": true
    },
    "kernelspec": {
      "display_name": "Python 3 (ipykernel)",
      "language": "python",
      "name": "python3"
    },
    "language_info": {
      "codemirror_mode": {
        "name": "ipython",
        "version": 3
      },
      "file_extension": ".py",
      "mimetype": "text/x-python",
      "name": "python",
      "nbconvert_exporter": "python",
      "pygments_lexer": "ipython3",
      "version": "3.9.7"
    },
    "varInspector": {
      "cols": {
        "lenName": 16,
        "lenType": 16,
        "lenVar": 40
      },
      "kernels_config": {
        "python": {
          "delete_cmd_postfix": "",
          "delete_cmd_prefix": "del ",
          "library": "var_list.py",
          "varRefreshCmd": "print(var_dic_list())"
        },
        "r": {
          "delete_cmd_postfix": ") ",
          "delete_cmd_prefix": "rm(",
          "library": "var_list.r",
          "varRefreshCmd": "cat(var_dic_list()) "
        }
      },
      "position": {
        "height": "536.84px",
        "left": "1339.77px",
        "right": "20px",
        "top": "120px",
        "width": "298.003px"
      },
      "types_to_exclude": [
        "module",
        "function",
        "builtin_function_or_method",
        "instance",
        "_Feature"
      ],
      "window_display": false
    }
  },
  "nbformat": 4,
  "nbformat_minor": 5
}