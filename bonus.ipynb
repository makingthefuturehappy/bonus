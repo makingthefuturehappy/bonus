{
 "cells": [
  {
   "cell_type": "markdown",
   "id": "0a88923f",
   "metadata": {
    "id": "0a88923f"
   },
   "source": [
    "<H1>Bonus</H1>"
   ]
  },
  {
   "cell_type": "markdown",
   "id": "b4a3b9c2",
   "metadata": {
    "id": "b4a3b9c2"
   },
   "source": [
    "Drivers' segments description\n",
    "https://docs.google.com/spreadsheets/d/11KIaZaywoBq3MymrCd8dmWJdBhFO989SNsrrSKYiB3Y/edit#gid=0"
   ]
  },
  {
   "cell_type": "markdown",
   "id": "d517fcb4",
   "metadata": {
    "id": "d517fcb4"
   },
   "source": [
    "**Настраиваем переменные расчета**"
   ]
  },
  {
   "cell_type": "code",
   "execution_count": 1,
   "id": "f8a84673",
   "metadata": {
    "id": "f8a84673"
   },
   "outputs": [],
   "source": [
    "path = \"quito_short.csv\"\n",
    "cohorts = 5           # quantity of cohorts\n",
    "commission = 0.095    # indriver commission\n",
    "win_rate = 0.15       # percent of drivers who moves to the upper cohort\n",
    "period_duration = 0.5 # period to forecast prospective rides from the total period"
   ]
  },
  {
   "cell_type": "markdown",
   "id": "H6lDbWuqfOMG",
   "metadata": {
    "id": "H6lDbWuqfOMG"
   },
   "source": [
    "## Загружаем данные и анализируем кол-во поездок для каждого водителя"
   ]
  },
  {
   "cell_type": "code",
   "execution_count": 2,
   "id": "b30d00ef",
   "metadata": {
    "id": "b30d00ef"
   },
   "outputs": [],
   "source": [
    "import pandas as pd\n",
    "import numpy as np\n",
    "import math\n",
    "from datetime import datetime\n",
    "import warnings\n",
    "warnings.filterwarnings(\"ignore\")"
   ]
  },
  {
   "cell_type": "code",
   "execution_count": 3,
   "id": "7cd3ea01",
   "metadata": {
    "id": "7cd3ea01"
   },
   "outputs": [],
   "source": [
    "# percentile level calc\n",
    "percentile_level = {}\n",
    "percentile = 0\n",
    "for i in range (1, cohorts):\n",
    "    percentile = 100 / cohorts + percentile\n",
    "    percentile_level[i] = int(percentile)"
   ]
  },
  {
   "cell_type": "markdown",
   "id": "c67685f9",
   "metadata": {
    "id": "c67685f9",
    "tags": []
   },
   "source": [
    "<h3>Data upload and pre-calc</h3>"
   ]
  },
  {
   "cell_type": "code",
   "execution_count": 4,
   "id": "c70991fd",
   "metadata": {
    "colab": {
     "base_uri": "https://localhost:8080/",
     "height": 0
    },
    "id": "c70991fd",
    "outputId": "cbaaa1c2-3bb2-4886-8ca6-cc1514a8023d",
    "scrolled": true
   },
   "outputs": [
    {
     "name": "stdout",
     "output_type": "stream",
     "text": [
      "total drivers: 199\n"
     ]
    },
    {
     "data": {
      "text/html": [
       "<div>\n",
       "<style scoped>\n",
       "    .dataframe tbody tr th:only-of-type {\n",
       "        vertical-align: middle;\n",
       "    }\n",
       "\n",
       "    .dataframe tbody tr th {\n",
       "        vertical-align: top;\n",
       "    }\n",
       "\n",
       "    .dataframe thead th {\n",
       "        text-align: right;\n",
       "    }\n",
       "</style>\n",
       "<table border=\"1\" class=\"dataframe\">\n",
       "  <thead>\n",
       "    <tr style=\"text-align: right;\">\n",
       "      <th></th>\n",
       "      <th>id</th>\n",
       "      <th>gmv</th>\n",
       "      <th>27.04</th>\n",
       "      <th>28.04</th>\n",
       "      <th>29.04</th>\n",
       "      <th>30.04</th>\n",
       "      <th>01.05</th>\n",
       "      <th>02.05</th>\n",
       "      <th>03.05</th>\n",
       "      <th>04.05</th>\n",
       "      <th>...</th>\n",
       "      <th>16.05</th>\n",
       "      <th>17.05</th>\n",
       "      <th>18.05</th>\n",
       "      <th>19.05</th>\n",
       "      <th>20.05</th>\n",
       "      <th>21.05</th>\n",
       "      <th>22.05</th>\n",
       "      <th>23.05</th>\n",
       "      <th>24.05</th>\n",
       "      <th>25.05</th>\n",
       "    </tr>\n",
       "  </thead>\n",
       "  <tbody>\n",
       "    <tr>\n",
       "      <th>57</th>\n",
       "      <td>30867902</td>\n",
       "      <td>789.0</td>\n",
       "      <td>7</td>\n",
       "      <td>2</td>\n",
       "      <td>14</td>\n",
       "      <td>13</td>\n",
       "      <td>19</td>\n",
       "      <td>6</td>\n",
       "      <td>3</td>\n",
       "      <td>9</td>\n",
       "      <td>...</td>\n",
       "      <td>10</td>\n",
       "      <td>2</td>\n",
       "      <td>6</td>\n",
       "      <td>11</td>\n",
       "      <td>11</td>\n",
       "      <td>6</td>\n",
       "      <td>6</td>\n",
       "      <td>0</td>\n",
       "      <td>7</td>\n",
       "      <td>7</td>\n",
       "    </tr>\n",
       "    <tr>\n",
       "      <th>193</th>\n",
       "      <td>15401397</td>\n",
       "      <td>197.0</td>\n",
       "      <td>0</td>\n",
       "      <td>0</td>\n",
       "      <td>0</td>\n",
       "      <td>5</td>\n",
       "      <td>5</td>\n",
       "      <td>0</td>\n",
       "      <td>0</td>\n",
       "      <td>3</td>\n",
       "      <td>...</td>\n",
       "      <td>3</td>\n",
       "      <td>6</td>\n",
       "      <td>4</td>\n",
       "      <td>1</td>\n",
       "      <td>0</td>\n",
       "      <td>0</td>\n",
       "      <td>0</td>\n",
       "      <td>0</td>\n",
       "      <td>0</td>\n",
       "      <td>3</td>\n",
       "    </tr>\n",
       "    <tr>\n",
       "      <th>91</th>\n",
       "      <td>83953067</td>\n",
       "      <td>71.0</td>\n",
       "      <td>1</td>\n",
       "      <td>0</td>\n",
       "      <td>0</td>\n",
       "      <td>0</td>\n",
       "      <td>0</td>\n",
       "      <td>0</td>\n",
       "      <td>0</td>\n",
       "      <td>0</td>\n",
       "      <td>...</td>\n",
       "      <td>1</td>\n",
       "      <td>0</td>\n",
       "      <td>1</td>\n",
       "      <td>0</td>\n",
       "      <td>0</td>\n",
       "      <td>1</td>\n",
       "      <td>0</td>\n",
       "      <td>0</td>\n",
       "      <td>0</td>\n",
       "      <td>1</td>\n",
       "    </tr>\n",
       "    <tr>\n",
       "      <th>16</th>\n",
       "      <td>66880490</td>\n",
       "      <td>27.0</td>\n",
       "      <td>0</td>\n",
       "      <td>0</td>\n",
       "      <td>0</td>\n",
       "      <td>0</td>\n",
       "      <td>0</td>\n",
       "      <td>0</td>\n",
       "      <td>0</td>\n",
       "      <td>0</td>\n",
       "      <td>...</td>\n",
       "      <td>1</td>\n",
       "      <td>0</td>\n",
       "      <td>0</td>\n",
       "      <td>0</td>\n",
       "      <td>0</td>\n",
       "      <td>0</td>\n",
       "      <td>0</td>\n",
       "      <td>0</td>\n",
       "      <td>0</td>\n",
       "      <td>0</td>\n",
       "    </tr>\n",
       "    <tr>\n",
       "      <th>32</th>\n",
       "      <td>16285893</td>\n",
       "      <td>583.0</td>\n",
       "      <td>7</td>\n",
       "      <td>1</td>\n",
       "      <td>4</td>\n",
       "      <td>6</td>\n",
       "      <td>13</td>\n",
       "      <td>3</td>\n",
       "      <td>7</td>\n",
       "      <td>6</td>\n",
       "      <td>...</td>\n",
       "      <td>9</td>\n",
       "      <td>6</td>\n",
       "      <td>2</td>\n",
       "      <td>3</td>\n",
       "      <td>10</td>\n",
       "      <td>7</td>\n",
       "      <td>8</td>\n",
       "      <td>2</td>\n",
       "      <td>10</td>\n",
       "      <td>5</td>\n",
       "    </tr>\n",
       "  </tbody>\n",
       "</table>\n",
       "<p>5 rows × 31 columns</p>\n",
       "</div>"
      ],
      "text/plain": [
       "           id    gmv  27.04  28.04  29.04  30.04  01.05  02.05  03.05  04.05  \\\n",
       "57   30867902  789.0      7      2     14     13     19      6      3      9   \n",
       "193  15401397  197.0      0      0      0      5      5      0      0      3   \n",
       "91   83953067   71.0      1      0      0      0      0      0      0      0   \n",
       "16   66880490   27.0      0      0      0      0      0      0      0      0   \n",
       "32   16285893  583.0      7      1      4      6     13      3      7      6   \n",
       "\n",
       "     ...  16.05  17.05  18.05  19.05  20.05  21.05  22.05  23.05  24.05  25.05  \n",
       "57   ...     10      2      6     11     11      6      6      0      7      7  \n",
       "193  ...      3      6      4      1      0      0      0      0      0      3  \n",
       "91   ...      1      0      1      0      0      1      0      0      0      1  \n",
       "16   ...      1      0      0      0      0      0      0      0      0      0  \n",
       "32   ...      9      6      2      3     10      7      8      2     10      5  \n",
       "\n",
       "[5 rows x 31 columns]"
      ]
     },
     "execution_count": 4,
     "metadata": {},
     "output_type": "execute_result"
    }
   ],
   "source": [
    "df = pd.read_csv(path)\n",
    "df['gmv'] = pd.to_numeric(df['gmv'], errors='coerce')\n",
    "dates = list(df.columns)[2:]\n",
    "print(\"total drivers:\", df.shape[0])\n",
    "df.sample(n=5)"
   ]
  },
  {
   "cell_type": "markdown",
   "id": "4e312746",
   "metadata": {
    "id": "4e312746"
   },
   "source": [
    "<h3>retention & avr. check calc</h3>"
   ]
  },
  {
   "cell_type": "code",
   "execution_count": 6,
   "id": "17f32b23",
   "metadata": {
    "id": "17f32b23"
   },
   "outputs": [],
   "source": [
    "# date split by weekends and workdays \n",
    "fridays = []\n",
    "saturdays = []\n",
    "sundays = []\n",
    "workdays = []\n",
    "\n",
    "dates = list(filter(lambda x: \".\" in x, df.columns))\n",
    "for weekday in dates:\n",
    "    daynum = datetime.strptime(weekday, '%d.%m').isoweekday()\n",
    "    if daynum == 5: fridays.append(weekday)\n",
    "    elif daynum == 6: saturdays.append(weekday)\n",
    "    elif daynum == 7: sundays.append(weekday)\n",
    "    else: workdays.append(weekday)"
   ]
  },
  {
   "cell_type": "code",
   "execution_count": 7,
   "id": "5c1614a3",
   "metadata": {
    "id": "5c1614a3"
   },
   "outputs": [],
   "source": [
    "# split the period by 2 equal \"dates\" parts \n",
    "if len(dates)%2 == 0:\n",
    "    index_2nd = len(dates)//2\n",
    "    index_1st = 0\n",
    "else:\n",
    "    index_2nd = len(dates)//2+1\n",
    "    index_1st = 1\n",
    "    \n",
    "first_half = dates[index_1st : index_2nd]\n",
    "second_half = dates[index_2nd : len(dates)]\n",
    "total_days = len(first_half) + len(second_half)\n",
    "\n",
    "\n",
    "# retention & avr_check cals\n",
    "df['first_half'] = df[first_half].sum(axis=1)\n",
    "df['second_half'] = df[second_half].sum(axis=1)\n",
    "\n",
    "def retention_calc(first_half, second_half):\n",
    "    try:\n",
    "        retention = second_half / first_half\n",
    "    except:\n",
    "        retention = 0\n",
    "    retention = min (1, retention)\n",
    "    return retention\n",
    "\n",
    "df['retention'] = df.apply(lambda x: retention_calc(x['first_half'], x['second_half']), axis =  1)\n",
    "df['total_rides'] = df['first_half'] + df['second_half']\n",
    "df['avr_check'] = df['gmv'] / df['total_rides']\n",
    "df['WK_rides'] = df[fridays + saturdays + sundays].sum(axis=1) # weekends rides\n",
    "df['WD_rides'] = df[workdays].sum(axis=1) # weekends rides\n",
    "\n",
    "\n",
    "key_fields = ['id', 'gmv','first_half','second_half','total_rides', 'WD_rides','WK_rides', 'avr_check', 'retention'] \n",
    " \n",
    "df = df[np.isfinite(df).all(1)] # infinity values drop (comes from a division by zero)\n",
    "df = df.round({'gmv': 0, 'retention': 2, 'avr_check': 1})"
   ]
  },
  {
   "cell_type": "markdown",
   "id": "PftERkRHjE2b",
   "metadata": {
    "id": "PftERkRHjE2b"
   },
   "source": [
    "## Проверям на примере что посчиталось\n"
   ]
  },
  {
   "cell_type": "markdown",
   "id": "Y5K_U5VYjXvi",
   "metadata": {
    "id": "Y5K_U5VYjXvi"
   },
   "source": [
    "**id** - id водителя<br>\n",
    "**gmv** - gmv водителя<br>\n",
    "**first_half** - количество поездок в первую половину периода<br>\n",
    "**second_half** - количество поездок в первую половину периода<br>\n",
    "**total_rides** - всего поездок за период\n",
    "**WD_rides** - количество поездок в WorkDays<br>\n",
    "**WK_rides** - количество поездок в WeeKends<br>\n",
    "**avr_check** - средний чек<br>\n",
    "\n"
   ]
  },
  {
   "cell_type": "code",
   "execution_count": 10,
   "id": "Vy7PmTkXlC7Z",
   "metadata": {
    "colab": {
     "base_uri": "https://localhost:8080/",
     "height": 258
    },
    "id": "Vy7PmTkXlC7Z",
    "outputId": "337e2e0a-0e4c-4062-a4ff-16fb6d3b36c1"
   },
   "outputs": [
    {
     "name": "stdout",
     "output_type": "stream",
     "text": [
      "total drivers: 191\n",
      "\n",
      "выгрузка рандомных водителей\n"
     ]
    },
    {
     "data": {
      "text/html": [
       "<div>\n",
       "<style scoped>\n",
       "    .dataframe tbody tr th:only-of-type {\n",
       "        vertical-align: middle;\n",
       "    }\n",
       "\n",
       "    .dataframe tbody tr th {\n",
       "        vertical-align: top;\n",
       "    }\n",
       "\n",
       "    .dataframe thead th {\n",
       "        text-align: right;\n",
       "    }\n",
       "</style>\n",
       "<table border=\"1\" class=\"dataframe\">\n",
       "  <thead>\n",
       "    <tr style=\"text-align: right;\">\n",
       "      <th></th>\n",
       "      <th>id</th>\n",
       "      <th>gmv</th>\n",
       "      <th>first_half</th>\n",
       "      <th>second_half</th>\n",
       "      <th>total_rides</th>\n",
       "      <th>WD_rides</th>\n",
       "      <th>WK_rides</th>\n",
       "      <th>avr_check</th>\n",
       "      <th>retention</th>\n",
       "    </tr>\n",
       "  </thead>\n",
       "  <tbody>\n",
       "    <tr>\n",
       "      <th>164</th>\n",
       "      <td>48759798</td>\n",
       "      <td>22.0</td>\n",
       "      <td>6</td>\n",
       "      <td>0</td>\n",
       "      <td>6</td>\n",
       "      <td>5</td>\n",
       "      <td>1</td>\n",
       "      <td>3.7</td>\n",
       "      <td>0.0</td>\n",
       "    </tr>\n",
       "    <tr>\n",
       "      <th>162</th>\n",
       "      <td>77235585</td>\n",
       "      <td>108.0</td>\n",
       "      <td>20</td>\n",
       "      <td>10</td>\n",
       "      <td>30</td>\n",
       "      <td>22</td>\n",
       "      <td>9</td>\n",
       "      <td>3.6</td>\n",
       "      <td>0.5</td>\n",
       "    </tr>\n",
       "    <tr>\n",
       "      <th>61</th>\n",
       "      <td>115836565</td>\n",
       "      <td>278.0</td>\n",
       "      <td>39</td>\n",
       "      <td>35</td>\n",
       "      <td>74</td>\n",
       "      <td>42</td>\n",
       "      <td>38</td>\n",
       "      <td>3.8</td>\n",
       "      <td>0.9</td>\n",
       "    </tr>\n",
       "    <tr>\n",
       "      <th>177</th>\n",
       "      <td>17694783</td>\n",
       "      <td>43.0</td>\n",
       "      <td>0</td>\n",
       "      <td>11</td>\n",
       "      <td>11</td>\n",
       "      <td>1</td>\n",
       "      <td>12</td>\n",
       "      <td>3.9</td>\n",
       "      <td>1.0</td>\n",
       "    </tr>\n",
       "    <tr>\n",
       "      <th>120</th>\n",
       "      <td>17990082</td>\n",
       "      <td>385.0</td>\n",
       "      <td>52</td>\n",
       "      <td>61</td>\n",
       "      <td>113</td>\n",
       "      <td>48</td>\n",
       "      <td>65</td>\n",
       "      <td>3.4</td>\n",
       "      <td>1.0</td>\n",
       "    </tr>\n",
       "  </tbody>\n",
       "</table>\n",
       "</div>"
      ],
      "text/plain": [
       "            id    gmv  first_half  second_half  total_rides  WD_rides  \\\n",
       "164   48759798   22.0           6            0            6         5   \n",
       "162   77235585  108.0          20           10           30        22   \n",
       "61   115836565  278.0          39           35           74        42   \n",
       "177   17694783   43.0           0           11           11         1   \n",
       "120   17990082  385.0          52           61          113        48   \n",
       "\n",
       "     WK_rides  avr_check  retention  \n",
       "164         1        3.7        0.0  \n",
       "162         9        3.6        0.5  \n",
       "61         38        3.8        0.9  \n",
       "177        12        3.9        1.0  \n",
       "120        65        3.4        1.0  "
      ]
     },
     "execution_count": 10,
     "metadata": {},
     "output_type": "execute_result"
    }
   ],
   "source": [
    "print('total drivers:', df.shape[0])\n",
    "print('\\nвыгрузка рандомных водителей')\n",
    "df[key_fields].sample(n=5)"
   ]
  },
  {
   "cell_type": "markdown",
   "id": "2571fe1b",
   "metadata": {
    "id": "2571fe1b"
   },
   "source": [
    "## Расчитываем размеры когорт"
   ]
  },
  {
   "cell_type": "code",
   "execution_count": 11,
   "id": "18902214",
   "metadata": {
    "id": "18902214"
   },
   "outputs": [],
   "source": [
    "# exclude IDs which have zero rides during the first half of the period\n",
    "df_activer_drivers = df.loc[df['first_half'] != 0]\n",
    "    \n",
    "all_cohorts = {}\n",
    "range_start = 0\n",
    "\n",
    "for percentile in percentile_level.keys():\n",
    "    \n",
    "    max_value = np.percentile(np.array(df_activer_drivers.total_rides.tolist()), percentile_level[percentile]) # percentile value\n",
    "    all_cohorts[percentile] = range(int(range_start), int(max_value))\n",
    "    range_start = max_value\n",
    "\n",
    "last_percentile = int(max(list(percentile_level.keys())))+1\n",
    "all_cohorts[last_percentile] = range(int(max_value),\n",
    "                                     int(1e8)) # set a large number to keep the cohort range            \n",
    "\n",
    "# cohort distribution for all IDs\n",
    "def cohort_check(x, all_cohorts):\n",
    "    for cohort in all_cohorts.keys():\n",
    "        if x in all_cohorts[cohort]:\n",
    "            return cohort\n",
    "        else:\n",
    "            pass      \n",
    "df['cohort'] = df.apply(lambda x: cohort_check(x['total_rides'], all_cohorts), axis =  1)"
   ]
  },
  {
   "cell_type": "code",
   "execution_count": 12,
   "id": "87646296",
   "metadata": {
    "colab": {
     "base_uri": "https://localhost:8080/",
     "height": 0
    },
    "id": "87646296",
    "outputId": "52a0e209-bbe1-4d1e-bc0b-f9b17fd6a54b",
    "scrolled": false
   },
   "outputs": [
    {
     "data": {
      "text/html": [
       "<div>\n",
       "<style scoped>\n",
       "    .dataframe tbody tr th:only-of-type {\n",
       "        vertical-align: middle;\n",
       "    }\n",
       "\n",
       "    .dataframe tbody tr th {\n",
       "        vertical-align: top;\n",
       "    }\n",
       "\n",
       "    .dataframe thead th {\n",
       "        text-align: right;\n",
       "    }\n",
       "</style>\n",
       "<table border=\"1\" class=\"dataframe\">\n",
       "  <thead>\n",
       "    <tr style=\"text-align: right;\">\n",
       "      <th></th>\n",
       "      <th>id</th>\n",
       "      <th>gmv</th>\n",
       "      <th>27.04</th>\n",
       "      <th>28.04</th>\n",
       "      <th>29.04</th>\n",
       "      <th>30.04</th>\n",
       "      <th>01.05</th>\n",
       "      <th>02.05</th>\n",
       "      <th>03.05</th>\n",
       "      <th>04.05</th>\n",
       "      <th>...</th>\n",
       "      <th>24.05</th>\n",
       "      <th>25.05</th>\n",
       "      <th>first_half</th>\n",
       "      <th>second_half</th>\n",
       "      <th>retention</th>\n",
       "      <th>total_rides</th>\n",
       "      <th>avr_check</th>\n",
       "      <th>WK_rides</th>\n",
       "      <th>WD_rides</th>\n",
       "      <th>cohort</th>\n",
       "    </tr>\n",
       "  </thead>\n",
       "  <tbody>\n",
       "    <tr>\n",
       "      <th>0</th>\n",
       "      <td>53150711</td>\n",
       "      <td>32.0</td>\n",
       "      <td>0</td>\n",
       "      <td>0</td>\n",
       "      <td>0</td>\n",
       "      <td>0</td>\n",
       "      <td>0</td>\n",
       "      <td>2</td>\n",
       "      <td>1</td>\n",
       "      <td>1</td>\n",
       "      <td>...</td>\n",
       "      <td>0</td>\n",
       "      <td>0</td>\n",
       "      <td>5</td>\n",
       "      <td>4</td>\n",
       "      <td>0.8</td>\n",
       "      <td>9</td>\n",
       "      <td>3.6</td>\n",
       "      <td>2</td>\n",
       "      <td>7</td>\n",
       "      <td>1</td>\n",
       "    </tr>\n",
       "    <tr>\n",
       "      <th>1</th>\n",
       "      <td>38732356</td>\n",
       "      <td>7.0</td>\n",
       "      <td>0</td>\n",
       "      <td>0</td>\n",
       "      <td>0</td>\n",
       "      <td>0</td>\n",
       "      <td>0</td>\n",
       "      <td>0</td>\n",
       "      <td>0</td>\n",
       "      <td>2</td>\n",
       "      <td>...</td>\n",
       "      <td>0</td>\n",
       "      <td>0</td>\n",
       "      <td>2</td>\n",
       "      <td>0</td>\n",
       "      <td>0.0</td>\n",
       "      <td>2</td>\n",
       "      <td>3.5</td>\n",
       "      <td>2</td>\n",
       "      <td>0</td>\n",
       "      <td>1</td>\n",
       "    </tr>\n",
       "    <tr>\n",
       "      <th>2</th>\n",
       "      <td>15794239</td>\n",
       "      <td>34.0</td>\n",
       "      <td>3</td>\n",
       "      <td>0</td>\n",
       "      <td>0</td>\n",
       "      <td>1</td>\n",
       "      <td>0</td>\n",
       "      <td>2</td>\n",
       "      <td>0</td>\n",
       "      <td>0</td>\n",
       "      <td>...</td>\n",
       "      <td>0</td>\n",
       "      <td>0</td>\n",
       "      <td>3</td>\n",
       "      <td>4</td>\n",
       "      <td>1.0</td>\n",
       "      <td>7</td>\n",
       "      <td>4.9</td>\n",
       "      <td>5</td>\n",
       "      <td>5</td>\n",
       "      <td>1</td>\n",
       "    </tr>\n",
       "    <tr>\n",
       "      <th>3</th>\n",
       "      <td>75826388</td>\n",
       "      <td>10.0</td>\n",
       "      <td>0</td>\n",
       "      <td>0</td>\n",
       "      <td>0</td>\n",
       "      <td>0</td>\n",
       "      <td>0</td>\n",
       "      <td>0</td>\n",
       "      <td>0</td>\n",
       "      <td>0</td>\n",
       "      <td>...</td>\n",
       "      <td>0</td>\n",
       "      <td>0</td>\n",
       "      <td>0</td>\n",
       "      <td>3</td>\n",
       "      <td>1.0</td>\n",
       "      <td>3</td>\n",
       "      <td>3.3</td>\n",
       "      <td>2</td>\n",
       "      <td>1</td>\n",
       "      <td>1</td>\n",
       "    </tr>\n",
       "    <tr>\n",
       "      <th>4</th>\n",
       "      <td>98436573</td>\n",
       "      <td>11.0</td>\n",
       "      <td>0</td>\n",
       "      <td>0</td>\n",
       "      <td>0</td>\n",
       "      <td>0</td>\n",
       "      <td>0</td>\n",
       "      <td>0</td>\n",
       "      <td>0</td>\n",
       "      <td>0</td>\n",
       "      <td>...</td>\n",
       "      <td>0</td>\n",
       "      <td>0</td>\n",
       "      <td>0</td>\n",
       "      <td>3</td>\n",
       "      <td>1.0</td>\n",
       "      <td>3</td>\n",
       "      <td>3.7</td>\n",
       "      <td>0</td>\n",
       "      <td>3</td>\n",
       "      <td>1</td>\n",
       "    </tr>\n",
       "  </tbody>\n",
       "</table>\n",
       "<p>5 rows × 39 columns</p>\n",
       "</div>"
      ],
      "text/plain": [
       "         id   gmv  27.04  28.04  29.04  30.04  01.05  02.05  03.05  04.05  \\\n",
       "0  53150711  32.0      0      0      0      0      0      2      1      1   \n",
       "1  38732356   7.0      0      0      0      0      0      0      0      2   \n",
       "2  15794239  34.0      3      0      0      1      0      2      0      0   \n",
       "3  75826388  10.0      0      0      0      0      0      0      0      0   \n",
       "4  98436573  11.0      0      0      0      0      0      0      0      0   \n",
       "\n",
       "   ...  24.05  25.05  first_half  second_half  retention  total_rides  \\\n",
       "0  ...      0      0           5            4        0.8            9   \n",
       "1  ...      0      0           2            0        0.0            2   \n",
       "2  ...      0      0           3            4        1.0            7   \n",
       "3  ...      0      0           0            3        1.0            3   \n",
       "4  ...      0      0           0            3        1.0            3   \n",
       "\n",
       "   avr_check  WK_rides  WD_rides  cohort  \n",
       "0        3.6         2         7       1  \n",
       "1        3.5         2         0       1  \n",
       "2        4.9         5         5       1  \n",
       "3        3.3         2         1       1  \n",
       "4        3.7         0         3       1  \n",
       "\n",
       "[5 rows x 39 columns]"
      ]
     },
     "execution_count": 12,
     "metadata": {},
     "output_type": "execute_result"
    }
   ],
   "source": [
    "# shuffle data within cohorts\n",
    "def shuffle(df,      # dataframe to shuffle data \n",
    "            cohorts): # cohorts to shuffle data within\n",
    "    shuffle_df = pd.DataFrame()\n",
    "    for cohort in set(cohorts):\n",
    "        shuffle_df = shuffle_df.append(df[df.cohort == cohort].sample(frac=1))\n",
    "    return shuffle_df\n",
    "\n",
    "df = shuffle(df, df['cohort'].tolist())\n",
    "df.reset_index(drop=True, inplace = True)\n",
    "df.head()"
   ]
  },
  {
   "cell_type": "markdown",
   "id": "e4cfa945",
   "metadata": {
    "id": "e4cfa945"
   },
   "source": [
    "<H3>cohorts features calc</H3>"
   ]
  },
  {
   "cell_type": "code",
   "execution_count": 13,
   "id": "fa9ec091",
   "metadata": {
    "id": "fa9ec091",
    "scrolled": false
   },
   "outputs": [],
   "source": [
    "avr_check = {}\n",
    "for cohort in range(1, cohorts+1):\n",
    "    avr_check[cohort] = df['avr_check'].loc[df['cohort'] == cohort].mean()\n",
    "\n",
    "avr_rides = {}\n",
    "for cohort in range(1, cohorts+1):\n",
    "    avr_rides[cohort] = df['total_rides'].loc[df['cohort'] == cohort].mean()\n",
    "    \n",
    "avr_wd_rides = {}\n",
    "for cohort in range(1, cohorts+1):\n",
    "    avr_wd_rides[cohort] = df['WD_rides'].loc[df['cohort'] == cohort].mean()\n",
    "    \n",
    "avr_wk_rides = {}\n",
    "for cohort in range(1, cohorts+1):\n",
    "    avr_wk_rides[cohort] = df['WK_rides'].loc[df['cohort'] == cohort].mean()\n",
    "\n",
    "drivers = {}\n",
    "for cohort in range(1, cohorts+1):\n",
    "    drivers[cohort] = df['id'].loc[df['cohort'] == cohort].count()\n",
    "\n",
    "avr_retention = {}\n",
    "for cohort in range(1, cohorts+1):\n",
    "    avr_retention[cohort] = df['retention'].loc[df['cohort'] == cohort].mean()\n",
    "\n",
    "cohort_df = pd.DataFrame(list(avr_check.items()),\n",
    "                   columns=['cohort', 'avr_check'])\n",
    "cohort_df['drivers'] = list(drivers.values())\n",
    "cohort_df['avr_rides'] = list(avr_rides.values())\n",
    "cohort_df['WK_all_rides'] = list(avr_wk_rides.values()) # quantity of rides on weekends \n",
    "cohort_df['WD_all_rides'] = list(avr_wd_rides.values()) # quantity of rides on workdays \n",
    "\n",
    "\n",
    "# 'WK_avr_rides' - # avr. rides on a particular weekend\n",
    "weekends_days = np.mean([len(fridays), len(saturdays), len(sundays)])\n",
    "cohort_df['WK_avr_rides'] = cohort_df['WK_all_rides'] / weekends_days\n",
    "\n",
    "# 'WD_avr_rides' - # avr. rides on a particular weekend\n",
    "workdays_days = len(workdays)\n",
    "cohort_df['WD_avr_rides'] = cohort_df['WD_all_rides'] / workdays_days\n",
    "\n",
    "# retention calc\n",
    "cohort_df = pd.merge(df.groupby('cohort')['retention'].mean(),\n",
    "                     cohort_df,\n",
    "                     on=\"cohort\")\n",
    "\n",
    "cohort_df['avr_rev_total'] = (cohort_df['avr_check'] * cohort_df['avr_rides'] * commission).astype(int)\n",
    "cohort_df = cohort_df.round({'retention': 2,\n",
    "                             'avr_check': 1,\n",
    "                             'avr_rides': 1,\n",
    "                             'WK_all_rides': 1,\n",
    "                             'WD_all_rides': 1,\n",
    "                             'WK_avr_rides': 1,\n",
    "                             'WD_avr_rides': 1,\n",
    "                            })"
   ]
  },
  {
   "cell_type": "markdown",
   "id": "7UjPfn1znVWQ",
   "metadata": {
    "id": "7UjPfn1znVWQ"
   },
   "source": [
    "## Описание когорт "
   ]
  },
  {
   "cell_type": "code",
   "execution_count": 17,
   "id": "6v8TTASOfkoy",
   "metadata": {
    "colab": {
     "base_uri": "https://localhost:8080/"
    },
    "id": "6v8TTASOfkoy",
    "outputId": "da880504-3282-4379-e04c-5f1c09ab3b54"
   },
   "outputs": [
    {
     "name": "stdout",
     "output_type": "stream",
     "text": [
      "\n",
      "cohorts and range of rides:\n"
     ]
    },
    {
     "data": {
      "text/plain": [
       "{1: range(0, 12),\n",
       " 2: range(12, 37),\n",
       " 3: range(37, 67),\n",
       " 4: range(67, 126),\n",
       " 5: range(126, 100000000)}"
      ]
     },
     "execution_count": 17,
     "metadata": {},
     "output_type": "execute_result"
    }
   ],
   "source": [
    "print('\\ncohorts and range of rides:')\n",
    "all_cohorts"
   ]
  },
  {
   "cell_type": "code",
   "execution_count": 18,
   "id": "DpthCUdmnL3f",
   "metadata": {
    "colab": {
     "base_uri": "https://localhost:8080/",
     "height": 223
    },
    "id": "DpthCUdmnL3f",
    "outputId": "cedf0627-6cdc-429c-e65e-a9ecb9aefffe"
   },
   "outputs": [
    {
     "name": "stdout",
     "output_type": "stream",
     "text": [
      "описание когорт:\n"
     ]
    },
    {
     "data": {
      "text/html": [
       "<div>\n",
       "<style scoped>\n",
       "    .dataframe tbody tr th:only-of-type {\n",
       "        vertical-align: middle;\n",
       "    }\n",
       "\n",
       "    .dataframe tbody tr th {\n",
       "        vertical-align: top;\n",
       "    }\n",
       "\n",
       "    .dataframe thead th {\n",
       "        text-align: right;\n",
       "    }\n",
       "</style>\n",
       "<table border=\"1\" class=\"dataframe\">\n",
       "  <thead>\n",
       "    <tr style=\"text-align: right;\">\n",
       "      <th></th>\n",
       "      <th>cohort</th>\n",
       "      <th>retention</th>\n",
       "      <th>avr_check</th>\n",
       "      <th>drivers</th>\n",
       "      <th>avr_rides</th>\n",
       "      <th>WK_all_rides</th>\n",
       "      <th>WD_all_rides</th>\n",
       "      <th>WK_avr_rides</th>\n",
       "      <th>WD_avr_rides</th>\n",
       "      <th>avr_rev_total</th>\n",
       "    </tr>\n",
       "  </thead>\n",
       "  <tbody>\n",
       "    <tr>\n",
       "      <th>0</th>\n",
       "      <td>1</td>\n",
       "      <td>0.72</td>\n",
       "      <td>3.7</td>\n",
       "      <td>51</td>\n",
       "      <td>5.4</td>\n",
       "      <td>2.2</td>\n",
       "      <td>3.4</td>\n",
       "      <td>0.5</td>\n",
       "      <td>0.2</td>\n",
       "      <td>1</td>\n",
       "    </tr>\n",
       "    <tr>\n",
       "      <th>1</th>\n",
       "      <td>2</td>\n",
       "      <td>0.82</td>\n",
       "      <td>3.6</td>\n",
       "      <td>40</td>\n",
       "      <td>21.0</td>\n",
       "      <td>10.5</td>\n",
       "      <td>11.2</td>\n",
       "      <td>2.4</td>\n",
       "      <td>0.7</td>\n",
       "      <td>7</td>\n",
       "    </tr>\n",
       "    <tr>\n",
       "      <th>2</th>\n",
       "      <td>3</td>\n",
       "      <td>0.68</td>\n",
       "      <td>3.6</td>\n",
       "      <td>34</td>\n",
       "      <td>51.0</td>\n",
       "      <td>27.0</td>\n",
       "      <td>26.8</td>\n",
       "      <td>6.2</td>\n",
       "      <td>1.7</td>\n",
       "      <td>17</td>\n",
       "    </tr>\n",
       "    <tr>\n",
       "      <th>3</th>\n",
       "      <td>4</td>\n",
       "      <td>0.83</td>\n",
       "      <td>3.6</td>\n",
       "      <td>33</td>\n",
       "      <td>95.2</td>\n",
       "      <td>42.0</td>\n",
       "      <td>56.3</td>\n",
       "      <td>9.7</td>\n",
       "      <td>3.5</td>\n",
       "      <td>32</td>\n",
       "    </tr>\n",
       "    <tr>\n",
       "      <th>4</th>\n",
       "      <td>5</td>\n",
       "      <td>0.84</td>\n",
       "      <td>3.6</td>\n",
       "      <td>33</td>\n",
       "      <td>178.2</td>\n",
       "      <td>89.0</td>\n",
       "      <td>96.3</td>\n",
       "      <td>20.5</td>\n",
       "      <td>6.0</td>\n",
       "      <td>60</td>\n",
       "    </tr>\n",
       "  </tbody>\n",
       "</table>\n",
       "</div>"
      ],
      "text/plain": [
       "   cohort  retention  avr_check  drivers  avr_rides  WK_all_rides  \\\n",
       "0       1       0.72        3.7       51        5.4           2.2   \n",
       "1       2       0.82        3.6       40       21.0          10.5   \n",
       "2       3       0.68        3.6       34       51.0          27.0   \n",
       "3       4       0.83        3.6       33       95.2          42.0   \n",
       "4       5       0.84        3.6       33      178.2          89.0   \n",
       "\n",
       "   WD_all_rides  WK_avr_rides  WD_avr_rides  avr_rev_total  \n",
       "0           3.4           0.5           0.2              1  \n",
       "1          11.2           2.4           0.7              7  \n",
       "2          26.8           6.2           1.7             17  \n",
       "3          56.3           9.7           3.5             32  \n",
       "4          96.3          20.5           6.0             60  "
      ]
     },
     "execution_count": 18,
     "metadata": {},
     "output_type": "execute_result"
    }
   ],
   "source": [
    "print(\"описание когорт:\")\n",
    "cohort_df"
   ]
  },
  {
   "cell_type": "markdown",
   "id": "4f1e47fc",
   "metadata": {
    "id": "4f1e47fc"
   },
   "source": [
    "<h3>Target Rides and Incentive</h3>"
   ]
  },
  {
   "cell_type": "code",
   "execution_count": 19,
   "id": "b118ec48",
   "metadata": {
    "id": "b118ec48"
   },
   "outputs": [],
   "source": [
    "# bonus to be given as an inventive by groups, % from average check of the cohort  \n",
    "# 1 equals 100% from the GMV of the target rides\n",
    "# example: gmv = $10, 0.35 = $3.5 as the bonus\n",
    "\n",
    "bonuses = {           \n",
    "    1: 0.35,\n",
    "    2: 0.35,\n",
    "    3: 0.35,\n",
    "    4: 0.35,\n",
    "    5: 0}"
   ]
  },
  {
   "cell_type": "markdown",
   "id": "o2ylUAgRoQGE",
   "metadata": {
    "id": "o2ylUAgRoQGE"
   },
   "source": [
    "## Расчитываем цели и вознаграждения"
   ]
  },
  {
   "cell_type": "code",
   "execution_count": 27,
   "id": "9ab9f106",
   "metadata": {
    "id": "9ab9f106"
   },
   "outputs": [],
   "source": [
    "# cohort_rides - maximum rides out of workdays & weekends rides\n",
    "#cohort_df['cohort_rides'] = cohort_df[['WK_avr_rides', 'WD_avr_rides']].max(axis=1)\n",
    "\n",
    "# rounding up all rides\n",
    "cohort_df['cohort_rides'] = cohort_df['WK_avr_rides'].apply(lambda x: math.ceil(x))\n",
    "\n",
    "# calc the target rides\n",
    "new_rides = {}\n",
    "for cohort in range(1, cohorts):\n",
    "    new_rides[cohort] = cohort_df.loc[cohort,'cohort_rides'] - cohort_df.loc[cohort-1,'cohort_rides']\n",
    "\n",
    "new_rides[cohorts] = 0 # set zero for the last upper cohort as there is no insentive\n",
    "\n",
    "# 'WK_rides_extra' - Weekend Extra Rides to be done\n",
    "cohort_df['WK_rides_extra'] = cohort_df['cohort'].map(new_rides) + 1\n",
    "# add 1 additional ride to overachieve cohort border \n",
    "    \n",
    "# 'rides_tbd' - all weekends rides to get the bonus\n",
    "cohort_df['rides_tbd'] = cohort_df['cohort_rides'] + cohort_df['WK_rides_extra']\n",
    "cohort_df.loc[cohorts-1,'rides_tbd'] = 0 # the target for the senior cohort shall be zero\n",
    "\n",
    "# incentive for drivers\n",
    "cohort_df['bonus, %'] = cohort_df['cohort'].map(bonuses)\n",
    "cohort_df['driver_bonus'] = cohort_df['WK_rides_extra'] * cohort_df['avr_check'] * cohort_df['bonus, %']\n",
    "cohort_df = cohort_df.round({'driver_bonus': 0})"
   ]
  },
  {
   "cell_type": "code",
   "execution_count": 28,
   "id": "7a2125a6",
   "metadata": {},
   "outputs": [
    {
     "data": {
      "text/html": [
       "<div>\n",
       "<style scoped>\n",
       "    .dataframe tbody tr th:only-of-type {\n",
       "        vertical-align: middle;\n",
       "    }\n",
       "\n",
       "    .dataframe tbody tr th {\n",
       "        vertical-align: top;\n",
       "    }\n",
       "\n",
       "    .dataframe thead th {\n",
       "        text-align: right;\n",
       "    }\n",
       "</style>\n",
       "<table border=\"1\" class=\"dataframe\">\n",
       "  <thead>\n",
       "    <tr style=\"text-align: right;\">\n",
       "      <th></th>\n",
       "      <th>cohort</th>\n",
       "      <th>retention</th>\n",
       "      <th>avr_check</th>\n",
       "      <th>drivers</th>\n",
       "      <th>avr_rides</th>\n",
       "      <th>WK_all_rides</th>\n",
       "      <th>WD_all_rides</th>\n",
       "      <th>WK_avr_rides</th>\n",
       "      <th>WD_avr_rides</th>\n",
       "      <th>avr_rev_total</th>\n",
       "      <th>cohort_rides</th>\n",
       "      <th>WK_rides_extra</th>\n",
       "      <th>rides_tbd</th>\n",
       "      <th>bonus, %</th>\n",
       "      <th>driver_bonus</th>\n",
       "    </tr>\n",
       "  </thead>\n",
       "  <tbody>\n",
       "    <tr>\n",
       "      <th>0</th>\n",
       "      <td>1</td>\n",
       "      <td>0.72</td>\n",
       "      <td>3.7</td>\n",
       "      <td>51</td>\n",
       "      <td>5.4</td>\n",
       "      <td>2.2</td>\n",
       "      <td>3.4</td>\n",
       "      <td>0.5</td>\n",
       "      <td>0.2</td>\n",
       "      <td>1</td>\n",
       "      <td>1</td>\n",
       "      <td>3</td>\n",
       "      <td>4</td>\n",
       "      <td>0.35</td>\n",
       "      <td>4.0</td>\n",
       "    </tr>\n",
       "    <tr>\n",
       "      <th>1</th>\n",
       "      <td>2</td>\n",
       "      <td>0.82</td>\n",
       "      <td>3.6</td>\n",
       "      <td>40</td>\n",
       "      <td>21.0</td>\n",
       "      <td>10.5</td>\n",
       "      <td>11.2</td>\n",
       "      <td>2.4</td>\n",
       "      <td>0.7</td>\n",
       "      <td>7</td>\n",
       "      <td>3</td>\n",
       "      <td>5</td>\n",
       "      <td>8</td>\n",
       "      <td>0.35</td>\n",
       "      <td>6.0</td>\n",
       "    </tr>\n",
       "    <tr>\n",
       "      <th>2</th>\n",
       "      <td>3</td>\n",
       "      <td>0.68</td>\n",
       "      <td>3.6</td>\n",
       "      <td>34</td>\n",
       "      <td>51.0</td>\n",
       "      <td>27.0</td>\n",
       "      <td>26.8</td>\n",
       "      <td>6.2</td>\n",
       "      <td>1.7</td>\n",
       "      <td>17</td>\n",
       "      <td>7</td>\n",
       "      <td>4</td>\n",
       "      <td>11</td>\n",
       "      <td>0.35</td>\n",
       "      <td>5.0</td>\n",
       "    </tr>\n",
       "    <tr>\n",
       "      <th>3</th>\n",
       "      <td>4</td>\n",
       "      <td>0.83</td>\n",
       "      <td>3.6</td>\n",
       "      <td>33</td>\n",
       "      <td>95.2</td>\n",
       "      <td>42.0</td>\n",
       "      <td>56.3</td>\n",
       "      <td>9.7</td>\n",
       "      <td>3.5</td>\n",
       "      <td>32</td>\n",
       "      <td>10</td>\n",
       "      <td>12</td>\n",
       "      <td>22</td>\n",
       "      <td>0.35</td>\n",
       "      <td>15.0</td>\n",
       "    </tr>\n",
       "    <tr>\n",
       "      <th>4</th>\n",
       "      <td>5</td>\n",
       "      <td>0.84</td>\n",
       "      <td>3.6</td>\n",
       "      <td>33</td>\n",
       "      <td>178.2</td>\n",
       "      <td>89.0</td>\n",
       "      <td>96.3</td>\n",
       "      <td>20.5</td>\n",
       "      <td>6.0</td>\n",
       "      <td>60</td>\n",
       "      <td>21</td>\n",
       "      <td>1</td>\n",
       "      <td>0</td>\n",
       "      <td>0.00</td>\n",
       "      <td>0.0</td>\n",
       "    </tr>\n",
       "  </tbody>\n",
       "</table>\n",
       "</div>"
      ],
      "text/plain": [
       "   cohort  retention  avr_check  drivers  avr_rides  WK_all_rides  \\\n",
       "0       1       0.72        3.7       51        5.4           2.2   \n",
       "1       2       0.82        3.6       40       21.0          10.5   \n",
       "2       3       0.68        3.6       34       51.0          27.0   \n",
       "3       4       0.83        3.6       33       95.2          42.0   \n",
       "4       5       0.84        3.6       33      178.2          89.0   \n",
       "\n",
       "   WD_all_rides  WK_avr_rides  WD_avr_rides  avr_rev_total  cohort_rides  \\\n",
       "0           3.4           0.5           0.2              1             1   \n",
       "1          11.2           2.4           0.7              7             3   \n",
       "2          26.8           6.2           1.7             17             7   \n",
       "3          56.3           9.7           3.5             32            10   \n",
       "4          96.3          20.5           6.0             60            21   \n",
       "\n",
       "   WK_rides_extra  rides_tbd  bonus, %  driver_bonus  \n",
       "0               3          4      0.35           4.0  \n",
       "1               5          8      0.35           6.0  \n",
       "2               4         11      0.35           5.0  \n",
       "3              12         22      0.35          15.0  \n",
       "4               1          0      0.00           0.0  "
      ]
     },
     "execution_count": 28,
     "metadata": {},
     "output_type": "execute_result"
    }
   ],
   "source": [
    "cohort_df"
   ]
  },
  {
   "cell_type": "markdown",
   "id": "BO65LaD0ocyV",
   "metadata": {
    "id": "BO65LaD0ocyV"
   },
   "source": [
    "## Результат расчетов:"
   ]
  },
  {
   "cell_type": "markdown",
   "id": "ixQ8kx9box-k",
   "metadata": {
    "id": "ixQ8kx9box-k"
   },
   "source": [
    "**WD_avr_rides**    - среднее кол-во поездок в workdays<br> \n",
    "**WK_avr_rides**    - среднее кол-во поездок в weekends<br>\n",
    "**cohort_rides**    - среднее кол-во поездок в когорте<br>\n",
    "**WK_rides_extra**  - на сколько больше надо сделать поездок в выходные<br>\n",
    "**rides_tbd**       - сколько в итоге надо сделать поездок в выходые всего<br>\n",
    "**driver_bonus**    - сколько бонусов предлагаем водителю за выполнение цели<br>\n",
    "**avr_check**       - средний чек водителя (для сравнения)<br>"
   ]
  },
  {
   "cell_type": "code",
   "execution_count": 29,
   "id": "7xIFA1TUoaG8",
   "metadata": {
    "colab": {
     "base_uri": "https://localhost:8080/",
     "height": 206
    },
    "id": "7xIFA1TUoaG8",
    "outputId": "8b99c45b-8a3d-4236-949f-038ce512911b"
   },
   "outputs": [
    {
     "data": {
      "text/html": [
       "<div>\n",
       "<style scoped>\n",
       "    .dataframe tbody tr th:only-of-type {\n",
       "        vertical-align: middle;\n",
       "    }\n",
       "\n",
       "    .dataframe tbody tr th {\n",
       "        vertical-align: top;\n",
       "    }\n",
       "\n",
       "    .dataframe thead th {\n",
       "        text-align: right;\n",
       "    }\n",
       "</style>\n",
       "<table border=\"1\" class=\"dataframe\">\n",
       "  <thead>\n",
       "    <tr style=\"text-align: right;\">\n",
       "      <th></th>\n",
       "      <th>cohort</th>\n",
       "      <th>WD_avr_rides</th>\n",
       "      <th>WK_avr_rides</th>\n",
       "      <th>cohort_rides</th>\n",
       "      <th>WK_rides_extra</th>\n",
       "      <th>rides_tbd</th>\n",
       "      <th>driver_bonus</th>\n",
       "      <th>avr_check</th>\n",
       "    </tr>\n",
       "  </thead>\n",
       "  <tbody>\n",
       "    <tr>\n",
       "      <th>0</th>\n",
       "      <td>1</td>\n",
       "      <td>0.2</td>\n",
       "      <td>0.5</td>\n",
       "      <td>1</td>\n",
       "      <td>3</td>\n",
       "      <td>4</td>\n",
       "      <td>4.0</td>\n",
       "      <td>3.7</td>\n",
       "    </tr>\n",
       "    <tr>\n",
       "      <th>1</th>\n",
       "      <td>2</td>\n",
       "      <td>0.7</td>\n",
       "      <td>2.4</td>\n",
       "      <td>3</td>\n",
       "      <td>5</td>\n",
       "      <td>8</td>\n",
       "      <td>6.0</td>\n",
       "      <td>3.6</td>\n",
       "    </tr>\n",
       "    <tr>\n",
       "      <th>2</th>\n",
       "      <td>3</td>\n",
       "      <td>1.7</td>\n",
       "      <td>6.2</td>\n",
       "      <td>7</td>\n",
       "      <td>4</td>\n",
       "      <td>11</td>\n",
       "      <td>5.0</td>\n",
       "      <td>3.6</td>\n",
       "    </tr>\n",
       "    <tr>\n",
       "      <th>3</th>\n",
       "      <td>4</td>\n",
       "      <td>3.5</td>\n",
       "      <td>9.7</td>\n",
       "      <td>10</td>\n",
       "      <td>12</td>\n",
       "      <td>22</td>\n",
       "      <td>15.0</td>\n",
       "      <td>3.6</td>\n",
       "    </tr>\n",
       "    <tr>\n",
       "      <th>4</th>\n",
       "      <td>5</td>\n",
       "      <td>6.0</td>\n",
       "      <td>20.5</td>\n",
       "      <td>21</td>\n",
       "      <td>1</td>\n",
       "      <td>0</td>\n",
       "      <td>0.0</td>\n",
       "      <td>3.6</td>\n",
       "    </tr>\n",
       "  </tbody>\n",
       "</table>\n",
       "</div>"
      ],
      "text/plain": [
       "   cohort  WD_avr_rides  WK_avr_rides  cohort_rides  WK_rides_extra  \\\n",
       "0       1           0.2           0.5             1               3   \n",
       "1       2           0.7           2.4             3               5   \n",
       "2       3           1.7           6.2             7               4   \n",
       "3       4           3.5           9.7            10              12   \n",
       "4       5           6.0          20.5            21               1   \n",
       "\n",
       "   rides_tbd  driver_bonus  avr_check  \n",
       "0          4           4.0        3.7  \n",
       "1          8           6.0        3.6  \n",
       "2         11           5.0        3.6  \n",
       "3         22          15.0        3.6  \n",
       "4          0           0.0        3.6  "
      ]
     },
     "execution_count": 29,
     "metadata": {},
     "output_type": "execute_result"
    }
   ],
   "source": [
    "cohort_df[['cohort',\n",
    "           'WD_avr_rides',\n",
    "           'WK_avr_rides',\n",
    "           'cohort_rides',\n",
    "           'WK_rides_extra',\n",
    "           'rides_tbd',\n",
    "           'driver_bonus',\n",
    "           'avr_check']]"
   ]
  },
  {
   "cell_type": "markdown",
   "id": "e2821260",
   "metadata": {
    "id": "e2821260"
   },
   "source": [
    "## Расчитываем окупаемость"
   ]
  },
  {
   "cell_type": "markdown",
   "id": "52bd53d9",
   "metadata": {
    "id": "52bd53d9"
   },
   "source": [
    "<h3>Instant revenue and costs</h3>"
   ]
  },
  {
   "cell_type": "code",
   "execution_count": 32,
   "id": "a18ae808",
   "metadata": {
    "colab": {
     "base_uri": "https://localhost:8080/"
    },
    "id": "a18ae808",
    "outputId": "c41174fd-0e7f-4588-8157-f6fb934d5e1c"
   },
   "outputs": [
    {
     "name": "stdout",
     "output_type": "stream",
     "text": [
      "instant revenue: 47\n",
      "instant costs  : 166\n",
      "instant balance: -119\n"
     ]
    }
   ],
   "source": [
    "# instant revenue\n",
    "cohort_df['win_rate'] = win_rate\n",
    "\n",
    "# costs\n",
    "cohort_df['costs'] = cohort_df['driver_bonus'] * \\\n",
    "    cohort_df['drivers'] * win_rate\n",
    "\n",
    "# extra revenue for the company\n",
    "cohort_df['ID_extra_rev'] = cohort_df['WK_rides_extra'] \\\n",
    "    * cohort_df['avr_check'] \\\n",
    "    * cohort_df['drivers'] \\\n",
    "    * win_rate \\\n",
    "    * commission\n",
    "\n",
    "instant_rev = cohort_df['ID_extra_rev'].sum()\n",
    "instant_cost = cohort_df['costs'].sum()\n",
    "\n",
    "print(\"instant revenue:\", int(instant_rev))\n",
    "print(\"instant costs  :\", int(instant_cost))\n",
    "print(\"instant balance:\", int(instant_rev - instant_cost))"
   ]
  },
  {
   "cell_type": "markdown",
   "id": "6ec4eea7",
   "metadata": {
    "id": "6ec4eea7"
   },
   "source": [
    "<h2>Perspective revenue projection</h2>"
   ]
  },
  {
   "cell_type": "markdown",
   "id": "c37d682c",
   "metadata": {
    "id": "c37d682c"
   },
   "source": [
    "<h3>Target is not fullfilled</h3>"
   ]
  },
  {
   "cell_type": "code",
   "execution_count": 33,
   "id": "f0dc527e",
   "metadata": {
    "id": "f0dc527e"
   },
   "outputs": [],
   "source": [
    "# target IS NOT fulfilled\n",
    "# 'P: not FF: rev' - Perspective Not Fulfilled: Revenue\n",
    "\n",
    "cohort_df['P: not FF: rev'] = cohort_df['avr_rides'] \\\n",
    "                                * cohort_df['avr_check'] \\\n",
    "                                * cohort_df['retention'] \\\n",
    "                                * period_duration \\\n",
    "                                * commission\n",
    "cohort_df.loc[cohorts-1,'P: not FF: rev'] = 0 #keep the last cohort zero as no an insentive for the cohort"
   ]
  },
  {
   "cell_type": "markdown",
   "id": "a997600c",
   "metadata": {
    "id": "a997600c"
   },
   "source": [
    "<h3>Target is fullfilled</h3>"
   ]
  },
  {
   "cell_type": "code",
   "execution_count": 34,
   "id": "5b51a13c",
   "metadata": {
    "id": "5b51a13c"
   },
   "outputs": [],
   "source": [
    "\n",
    "# target IS fulfilled\n",
    "FF_rides = {}\n",
    "for i in range (1, cohorts):\n",
    "    FF_rides[i] = avr_rides[i+1] * period_duration\n",
    "FF_rides[cohorts] = 0\n",
    "cohort_df['P: FF: rides'] = list(FF_rides.values())\n",
    "\n",
    "FF_gmv = {}\n",
    "for i in range (1, cohorts):\n",
    "    FF_gmv[i] = int(FF_rides[i] * avr_check[i+1])\n",
    "FF_gmv[cohorts] = 0\n",
    "cohort_df['P: FF: gmv'] = list(FF_gmv.values())\n",
    "\n",
    "FF_rev = {}\n",
    "for i in range (1, cohorts):\n",
    "    FF_rev[i] = int(FF_gmv[i] * commission * avr_retention[i+1])\n",
    "FF_rev[cohorts] = 0\n",
    "cohort_df['P: FF: rev'] = list(FF_rev.values())\n",
    "\n",
    "cohort_df['P: rev_up'] = (cohort_df['P: FF: rev'] - cohort_df['P: not FF: rev']) \\\n",
    "                                * win_rate \\\n",
    "                                * cohort_df['drivers']\n",
    "\n",
    "persp_rev_up = (cohort_df['P: rev_up'].sum())\n",
    "revenue_total = cohort_df['ID_extra_rev'].sum() + persp_rev_up"
   ]
  },
  {
   "cell_type": "code",
   "execution_count": 35,
   "id": "4f4a5e91",
   "metadata": {},
   "outputs": [
    {
     "data": {
      "text/html": [
       "<div>\n",
       "<style scoped>\n",
       "    .dataframe tbody tr th:only-of-type {\n",
       "        vertical-align: middle;\n",
       "    }\n",
       "\n",
       "    .dataframe tbody tr th {\n",
       "        vertical-align: top;\n",
       "    }\n",
       "\n",
       "    .dataframe thead th {\n",
       "        text-align: right;\n",
       "    }\n",
       "</style>\n",
       "<table border=\"1\" class=\"dataframe\">\n",
       "  <thead>\n",
       "    <tr style=\"text-align: right;\">\n",
       "      <th></th>\n",
       "      <th>cohort</th>\n",
       "      <th>retention</th>\n",
       "      <th>avr_check</th>\n",
       "      <th>drivers</th>\n",
       "      <th>avr_rides</th>\n",
       "      <th>WK_all_rides</th>\n",
       "      <th>WD_all_rides</th>\n",
       "      <th>WK_avr_rides</th>\n",
       "      <th>WD_avr_rides</th>\n",
       "      <th>avr_rev_total</th>\n",
       "      <th>...</th>\n",
       "      <th>bonus, %</th>\n",
       "      <th>driver_bonus</th>\n",
       "      <th>win_rate</th>\n",
       "      <th>costs</th>\n",
       "      <th>ID_extra_rev</th>\n",
       "      <th>P: not FF: rev</th>\n",
       "      <th>P: FF: rides</th>\n",
       "      <th>P: FF: gmv</th>\n",
       "      <th>P: FF: rev</th>\n",
       "      <th>P: rev_up</th>\n",
       "    </tr>\n",
       "  </thead>\n",
       "  <tbody>\n",
       "    <tr>\n",
       "      <th>0</th>\n",
       "      <td>1</td>\n",
       "      <td>0.72</td>\n",
       "      <td>3.7</td>\n",
       "      <td>51</td>\n",
       "      <td>5.4</td>\n",
       "      <td>2.2</td>\n",
       "      <td>3.4</td>\n",
       "      <td>0.5</td>\n",
       "      <td>0.2</td>\n",
       "      <td>1</td>\n",
       "      <td>...</td>\n",
       "      <td>0.35</td>\n",
       "      <td>4.0</td>\n",
       "      <td>0.15</td>\n",
       "      <td>30.60</td>\n",
       "      <td>8.066925</td>\n",
       "      <td>0.683316</td>\n",
       "      <td>10.512500</td>\n",
       "      <td>37</td>\n",
       "      <td>2</td>\n",
       "      <td>10.072633</td>\n",
       "    </tr>\n",
       "    <tr>\n",
       "      <th>1</th>\n",
       "      <td>2</td>\n",
       "      <td>0.82</td>\n",
       "      <td>3.6</td>\n",
       "      <td>40</td>\n",
       "      <td>21.0</td>\n",
       "      <td>10.5</td>\n",
       "      <td>11.2</td>\n",
       "      <td>2.4</td>\n",
       "      <td>0.7</td>\n",
       "      <td>7</td>\n",
       "      <td>...</td>\n",
       "      <td>0.35</td>\n",
       "      <td>6.0</td>\n",
       "      <td>0.15</td>\n",
       "      <td>36.00</td>\n",
       "      <td>10.260000</td>\n",
       "      <td>2.944620</td>\n",
       "      <td>25.485294</td>\n",
       "      <td>92</td>\n",
       "      <td>5</td>\n",
       "      <td>12.332280</td>\n",
       "    </tr>\n",
       "    <tr>\n",
       "      <th>2</th>\n",
       "      <td>3</td>\n",
       "      <td>0.68</td>\n",
       "      <td>3.6</td>\n",
       "      <td>34</td>\n",
       "      <td>51.0</td>\n",
       "      <td>27.0</td>\n",
       "      <td>26.8</td>\n",
       "      <td>6.2</td>\n",
       "      <td>1.7</td>\n",
       "      <td>17</td>\n",
       "      <td>...</td>\n",
       "      <td>0.35</td>\n",
       "      <td>5.0</td>\n",
       "      <td>0.15</td>\n",
       "      <td>25.50</td>\n",
       "      <td>6.976800</td>\n",
       "      <td>5.930280</td>\n",
       "      <td>47.621212</td>\n",
       "      <td>170</td>\n",
       "      <td>13</td>\n",
       "      <td>36.055572</td>\n",
       "    </tr>\n",
       "    <tr>\n",
       "      <th>3</th>\n",
       "      <td>4</td>\n",
       "      <td>0.83</td>\n",
       "      <td>3.6</td>\n",
       "      <td>33</td>\n",
       "      <td>95.2</td>\n",
       "      <td>42.0</td>\n",
       "      <td>56.3</td>\n",
       "      <td>9.7</td>\n",
       "      <td>3.5</td>\n",
       "      <td>32</td>\n",
       "      <td>...</td>\n",
       "      <td>0.35</td>\n",
       "      <td>15.0</td>\n",
       "      <td>0.15</td>\n",
       "      <td>74.25</td>\n",
       "      <td>20.314800</td>\n",
       "      <td>13.511736</td>\n",
       "      <td>89.075758</td>\n",
       "      <td>320</td>\n",
       "      <td>25</td>\n",
       "      <td>56.866907</td>\n",
       "    </tr>\n",
       "    <tr>\n",
       "      <th>4</th>\n",
       "      <td>5</td>\n",
       "      <td>0.84</td>\n",
       "      <td>3.6</td>\n",
       "      <td>33</td>\n",
       "      <td>178.2</td>\n",
       "      <td>89.0</td>\n",
       "      <td>96.3</td>\n",
       "      <td>20.5</td>\n",
       "      <td>6.0</td>\n",
       "      <td>60</td>\n",
       "      <td>...</td>\n",
       "      <td>0.00</td>\n",
       "      <td>0.0</td>\n",
       "      <td>0.15</td>\n",
       "      <td>0.00</td>\n",
       "      <td>1.692900</td>\n",
       "      <td>0.000000</td>\n",
       "      <td>0.000000</td>\n",
       "      <td>0</td>\n",
       "      <td>0</td>\n",
       "      <td>0.000000</td>\n",
       "    </tr>\n",
       "  </tbody>\n",
       "</table>\n",
       "<p>5 rows × 23 columns</p>\n",
       "</div>"
      ],
      "text/plain": [
       "   cohort  retention  avr_check  drivers  avr_rides  WK_all_rides  \\\n",
       "0       1       0.72        3.7       51        5.4           2.2   \n",
       "1       2       0.82        3.6       40       21.0          10.5   \n",
       "2       3       0.68        3.6       34       51.0          27.0   \n",
       "3       4       0.83        3.6       33       95.2          42.0   \n",
       "4       5       0.84        3.6       33      178.2          89.0   \n",
       "\n",
       "   WD_all_rides  WK_avr_rides  WD_avr_rides  avr_rev_total  ...  bonus, %  \\\n",
       "0           3.4           0.5           0.2              1  ...      0.35   \n",
       "1          11.2           2.4           0.7              7  ...      0.35   \n",
       "2          26.8           6.2           1.7             17  ...      0.35   \n",
       "3          56.3           9.7           3.5             32  ...      0.35   \n",
       "4          96.3          20.5           6.0             60  ...      0.00   \n",
       "\n",
       "   driver_bonus  win_rate  costs  ID_extra_rev  P: not FF: rev  P: FF: rides  \\\n",
       "0           4.0      0.15  30.60      8.066925        0.683316     10.512500   \n",
       "1           6.0      0.15  36.00     10.260000        2.944620     25.485294   \n",
       "2           5.0      0.15  25.50      6.976800        5.930280     47.621212   \n",
       "3          15.0      0.15  74.25     20.314800       13.511736     89.075758   \n",
       "4           0.0      0.15   0.00      1.692900        0.000000      0.000000   \n",
       "\n",
       "   P: FF: gmv  P: FF: rev  P: rev_up  \n",
       "0          37           2  10.072633  \n",
       "1          92           5  12.332280  \n",
       "2         170          13  36.055572  \n",
       "3         320          25  56.866907  \n",
       "4           0           0   0.000000  \n",
       "\n",
       "[5 rows x 23 columns]"
      ]
     },
     "execution_count": 35,
     "metadata": {},
     "output_type": "execute_result"
    }
   ],
   "source": [
    "cohort_df"
   ]
  },
  {
   "cell_type": "markdown",
   "id": "6xCotJuEr_KE",
   "metadata": {
    "id": "6xCotJuEr_KE"
   },
   "source": [
    "## Результат расчета"
   ]
  },
  {
   "cell_type": "code",
   "execution_count": 36,
   "id": "XC9N55EYsESM",
   "metadata": {
    "colab": {
     "base_uri": "https://localhost:8080/"
    },
    "id": "XC9N55EYsESM",
    "outputId": "6150a6e3-e12f-4483-913f-68490bb4ea84"
   },
   "outputs": [
    {
     "name": "stdout",
     "output_type": "stream",
     "text": [
      "instant revenue      : 47\n",
      "perspective revenue  : 115\n",
      "revenue total        : 162\n",
      "costs:               : 166\n",
      "profit:              : -3\n"
     ]
    }
   ],
   "source": [
    "print('instant revenue      :', int(instant_rev))\n",
    "print('perspective revenue  :', int(persp_rev_up))\n",
    "print('revenue total        :', int(revenue_total))\n",
    "print('costs:               :', int(instant_cost))\n",
    "print('profit:              :', int(revenue_total - instant_cost))"
   ]
  },
  {
   "cell_type": "markdown",
   "id": "60fa4a83",
   "metadata": {
    "id": "60fa4a83"
   },
   "source": [
    "## Распределяем водителей по группам для тестов разного размера бонусов"
   ]
  },
  {
   "cell_type": "markdown",
   "id": "Zh3a6eYSs1QV",
   "metadata": {
    "id": "Zh3a6eYSs1QV"
   },
   "source": [
    "распределяем водителей по группа для теста: конрольная и 3 тестовые"
   ]
  },
  {
   "cell_type": "code",
   "execution_count": 38,
   "id": "3qXGBRC2syY_",
   "metadata": {
    "id": "3qXGBRC2syY_"
   },
   "outputs": [],
   "source": [
    "group_split = {\n",
    "    \"control\": 0.25, # 25% of drivers go the control group\n",
    "    \"a\": 0.25,\n",
    "    \"b\": 0.25,\n",
    "    \"c\": 0.25}\n",
    "\n",
    "if sum(group_split.values()) != 1: print(\"split in test/control groups is NOT correct\") "
   ]
  },
  {
   "cell_type": "markdown",
   "id": "TtlsTK-csobd",
   "metadata": {
    "id": "TtlsTK-csobd"
   },
   "source": [
    "распределяем долю бонусов от расчитанных, которые мы отдаем до тестов<br>\n",
    "**control** - не даем бонусы<br>\n",
    "**остальные** - 1: отдаем 100% расчитанных бонусов, 0.5% отдаем 50% и т.д."
   ]
  },
  {
   "cell_type": "code",
   "execution_count": 39,
   "id": "e1b5159a",
   "metadata": {
    "id": "e1b5159a"
   },
   "outputs": [],
   "source": [
    "bonuses_split = {\n",
    "    \"control\": 0,\n",
    "    \"a\": 1,       # 100% of target bonuses will be given to drivers\n",
    "    \"b\": 0.8,     # \n",
    "    \"c\": 0.6}     # "
   ]
  },
  {
   "cell_type": "markdown",
   "id": "j2Z2Xb0RtnHa",
   "metadata": {
    "id": "j2Z2Xb0RtnHa"
   },
   "source": [
    "## Разбиваем водителей группы для теста"
   ]
  },
  {
   "cell_type": "code",
   "execution_count": 40,
   "id": "abeb48fe",
   "metadata": {
    "colab": {
     "base_uri": "https://localhost:8080/",
     "height": 0
    },
    "id": "abeb48fe",
    "outputId": "e68afbbd-956d-4b67-eee2-bc74f405b449"
   },
   "outputs": [
    {
     "data": {
      "text/html": [
       "<div>\n",
       "<style scoped>\n",
       "    .dataframe tbody tr th:only-of-type {\n",
       "        vertical-align: middle;\n",
       "    }\n",
       "\n",
       "    .dataframe tbody tr th {\n",
       "        vertical-align: top;\n",
       "    }\n",
       "\n",
       "    .dataframe thead th {\n",
       "        text-align: right;\n",
       "    }\n",
       "</style>\n",
       "<table border=\"1\" class=\"dataframe\">\n",
       "  <thead>\n",
       "    <tr style=\"text-align: right;\">\n",
       "      <th></th>\n",
       "      <th>id</th>\n",
       "      <th>cohort</th>\n",
       "      <th>driver_bonus</th>\n",
       "      <th>groups</th>\n",
       "      <th>rides_tbd</th>\n",
       "      <th>groups_coeff</th>\n",
       "      <th>bonus_to_offer</th>\n",
       "    </tr>\n",
       "  </thead>\n",
       "  <tbody>\n",
       "    <tr>\n",
       "      <th>84</th>\n",
       "      <td>61276973</td>\n",
       "      <td>2</td>\n",
       "      <td>6.0</td>\n",
       "      <td>c</td>\n",
       "      <td>8</td>\n",
       "      <td>0.6</td>\n",
       "      <td>4.0</td>\n",
       "    </tr>\n",
       "    <tr>\n",
       "      <th>92</th>\n",
       "      <td>90932724</td>\n",
       "      <td>3</td>\n",
       "      <td>5.0</td>\n",
       "      <td>control</td>\n",
       "      <td>11</td>\n",
       "      <td>0.0</td>\n",
       "      <td>0.0</td>\n",
       "    </tr>\n",
       "    <tr>\n",
       "      <th>59</th>\n",
       "      <td>30245375</td>\n",
       "      <td>2</td>\n",
       "      <td>6.0</td>\n",
       "      <td>control</td>\n",
       "      <td>8</td>\n",
       "      <td>0.0</td>\n",
       "      <td>0.0</td>\n",
       "    </tr>\n",
       "    <tr>\n",
       "      <th>174</th>\n",
       "      <td>18678076</td>\n",
       "      <td>5</td>\n",
       "      <td>0.0</td>\n",
       "      <td>b</td>\n",
       "      <td>0</td>\n",
       "      <td>0.8</td>\n",
       "      <td>0.0</td>\n",
       "    </tr>\n",
       "    <tr>\n",
       "      <th>146</th>\n",
       "      <td>56918818</td>\n",
       "      <td>4</td>\n",
       "      <td>15.0</td>\n",
       "      <td>c</td>\n",
       "      <td>22</td>\n",
       "      <td>0.6</td>\n",
       "      <td>9.0</td>\n",
       "    </tr>\n",
       "  </tbody>\n",
       "</table>\n",
       "</div>"
      ],
      "text/plain": [
       "           id  cohort  driver_bonus   groups  rides_tbd  groups_coeff  \\\n",
       "84   61276973       2           6.0        c          8           0.6   \n",
       "92   90932724       3           5.0  control         11           0.0   \n",
       "59   30245375       2           6.0  control          8           0.0   \n",
       "174  18678076       5           0.0        b          0           0.8   \n",
       "146  56918818       4          15.0        c         22           0.6   \n",
       "\n",
       "     bonus_to_offer  \n",
       "84              4.0  \n",
       "92              0.0  \n",
       "59              0.0  \n",
       "174             0.0  \n",
       "146             9.0  "
      ]
     },
     "execution_count": 40,
     "metadata": {},
     "output_type": "execute_result"
    }
   ],
   "source": [
    "df_groups = pd.DataFrame(columns = ['id', 'groups'])\n",
    "for cohort in range (1, cohorts+1):\n",
    "    group_length = df[df['cohort'] == cohort].shape[0]\n",
    "    control = ['control' for i in range(1, int(group_length * group_split['control']))]\n",
    "    a = ['a' for i in range(1, int(group_length * group_split['a']))]\n",
    "    b = ['b' for i in range(1, int(group_length * group_split['b']))]\n",
    "    c = ['c' for i in range (1, group_length - len(control) - len(a) - len(b) + 1)]\n",
    "\n",
    "    df_group = df[df['cohort'] == cohort]\n",
    "    df_group['groups'] = control + a + b + c\n",
    "    df_group = df_group[['id', 'groups']]\n",
    "    df_groups = pd.concat([df_groups, df_group])\n",
    "    \n",
    "df = df.merge(df_groups, how = 'left', on = 'id')\n",
    "\n",
    "result_df = df.merge(cohort_df, how='inner', on='cohort')[['id','cohort','driver_bonus','groups', 'rides_tbd']]\n",
    "\n",
    "result_df['groups_coeff'] = result_df['groups'].apply(lambda x: bonuses_split[x])\n",
    "result_df['bonus_to_offer'] = result_df['groups_coeff'] * result_df['driver_bonus']\n",
    "result_df['bonus_to_offer'] = result_df['bonus_to_offer'].apply(lambda x: round(x,0))\n",
    "result_df.sample(5)"
   ]
  },
  {
   "cell_type": "markdown",
   "id": "QMjvoKZGt7qP",
   "metadata": {
    "id": "QMjvoKZGt7qP"
   },
   "source": [
    "## Смотрим на распределение водителеям по тестовым группам"
   ]
  },
  {
   "cell_type": "code",
   "execution_count": 42,
   "id": "7e900c5e",
   "metadata": {
    "colab": {
     "base_uri": "https://localhost:8080/"
    },
    "id": "7e900c5e",
    "outputId": "f37ea4ed-38ae-4f88-c508-b1ee52d9a06f"
   },
   "outputs": [
    {
     "name": "stdout",
     "output_type": "stream",
     "text": [
      "РАЗБИВКА ВОДИТЕЛЕЙ ПО ГРУППАМ:\n",
      "\n",
      "total drivers: 191\n",
      " cohort 1 : 51\n",
      "   control : 11\n",
      "   a : 11\n",
      "   b : 11\n",
      "   c : 18\n",
      " cohort 2 : 40\n",
      "   control : 9\n",
      "   a : 9\n",
      "   b : 9\n",
      "   c : 13\n",
      " cohort 3 : 34\n",
      "   control : 7\n",
      "   a : 7\n",
      "   b : 7\n",
      "   c : 13\n",
      " cohort 4 : 33\n",
      "   control : 7\n",
      "   a : 7\n",
      "   b : 7\n",
      "   c : 12\n",
      " cohort 5 : 33\n",
      "   control : 7\n",
      "   a : 7\n",
      "   b : 7\n",
      "   c : 12\n",
      "\n",
      "ПРИМЕР РАЗБИВКИ ПО КОГОРТАМ\n",
      "\n",
      "cohort: 1\n",
      "         cohort  driver_bonus  rides_tbd  groups_coeff  bonus_to_offer\n",
      "groups                                                                \n",
      "a           1.0           4.0        4.0           1.0             4.0\n",
      "b           1.0           4.0        4.0           0.8             3.0\n",
      "c           1.0           4.0        4.0           0.6             2.0\n",
      "control     1.0           4.0        4.0           0.0             0.0\n",
      "\n",
      "cohort: 2\n",
      "         cohort  driver_bonus  rides_tbd  groups_coeff  bonus_to_offer\n",
      "groups                                                                \n",
      "a           2.0           6.0        8.0           1.0             6.0\n",
      "b           2.0           6.0        8.0           0.8             5.0\n",
      "c           2.0           6.0        8.0           0.6             4.0\n",
      "control     2.0           6.0        8.0           0.0             0.0\n",
      "\n",
      "cohort: 3\n",
      "         cohort  driver_bonus  rides_tbd  groups_coeff  bonus_to_offer\n",
      "groups                                                                \n",
      "a           3.0           5.0       11.0           1.0             5.0\n",
      "b           3.0           5.0       11.0           0.8             4.0\n",
      "c           3.0           5.0       11.0           0.6             3.0\n",
      "control     3.0           5.0       11.0           0.0             0.0\n",
      "\n",
      "cohort: 4\n",
      "         cohort  driver_bonus  rides_tbd  groups_coeff  bonus_to_offer\n",
      "groups                                                                \n",
      "a           4.0          15.0       22.0           1.0            15.0\n",
      "b           4.0          15.0       22.0           0.8            12.0\n",
      "c           4.0          15.0       22.0           0.6             9.0\n",
      "control     4.0          15.0       22.0           0.0             0.0\n"
     ]
    }
   ],
   "source": [
    "print(\"РАЗБИВКА ВОДИТЕЛЕЙ ПО ГРУППАМ:\")\n",
    "\n",
    "print(\"\\ntotal drivers:\", df.shape[0])\n",
    "for cohort in range (1, cohorts + 1):\n",
    "    print(\" cohort\", cohort, \":\", df[df['cohort'] == cohort].shape[0])\n",
    "    for group in list(group_split.keys()):\n",
    "        print(\"  \", group, \":\", df[(df['cohort'] == cohort) & (df['groups'] == group)].shape[0])\n",
    "\n",
    "print('\\nПРИМЕР РАЗБИВКИ ПО КОГОРТАМ')\n",
    "for cohort in range(1, cohorts):\n",
    "    print('\\ncohort:', cohort)\n",
    "    print(result_df[result_df.cohort == cohort].groupby(['groups']).mean())"
   ]
  },
  {
   "cell_type": "markdown",
   "id": "1kQkdu7RvC7_",
   "metadata": {
    "id": "1kQkdu7RvC7_"
   },
   "source": [
    "## Сохранаяем расчеты в файл"
   ]
  },
  {
   "cell_type": "markdown",
   "id": "SM2ITC4uvHb8",
   "metadata": {
    "id": "SM2ITC4uvHb8"
   },
   "source": [
    "название файл будет в формате \"bonus_table_день_месяц_час_минуты\""
   ]
  },
  {
   "cell_type": "code",
   "execution_count": 24,
   "id": "ca3aae62",
   "metadata": {
    "id": "ca3aae62"
   },
   "outputs": [],
   "source": [
    "file_name = \"bonus_table_\" + datetime.today().strftime('%d%m_%H%M') + '.csv'\n",
    "result_df.to_csv(file_name, index=False)"
   ]
  }
 ],
 "metadata": {
  "colab": {
   "name": "bonus.ipynb",
   "provenance": []
  },
  "kernelspec": {
   "display_name": "Python 3 (ipykernel)",
   "language": "python",
   "name": "python3"
  },
  "language_info": {
   "codemirror_mode": {
    "name": "ipython",
    "version": 3
   },
   "file_extension": ".py",
   "mimetype": "text/x-python",
   "name": "python",
   "nbconvert_exporter": "python",
   "pygments_lexer": "ipython3",
   "version": "3.9.7"
  },
  "varInspector": {
   "cols": {
    "lenName": 16,
    "lenType": 16,
    "lenVar": 40
   },
   "kernels_config": {
    "python": {
     "delete_cmd_postfix": "",
     "delete_cmd_prefix": "del ",
     "library": "var_list.py",
     "varRefreshCmd": "print(var_dic_list())"
    },
    "r": {
     "delete_cmd_postfix": ") ",
     "delete_cmd_prefix": "rm(",
     "library": "var_list.r",
     "varRefreshCmd": "cat(var_dic_list()) "
    }
   },
   "position": {
    "height": "536.84px",
    "left": "1339.77px",
    "right": "20px",
    "top": "120px",
    "width": "298.003px"
   },
   "types_to_exclude": [
    "module",
    "function",
    "builtin_function_or_method",
    "instance",
    "_Feature"
   ],
   "window_display": false
  }
 },
 "nbformat": 4,
 "nbformat_minor": 5
}
